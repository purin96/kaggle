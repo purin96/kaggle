{
 "cells": [
  {
   "cell_type": "code",
   "execution_count": 1,
   "id": "e28fb29c",
   "metadata": {
    "_cell_guid": "b1076dfc-b9ad-4769-8c92-a6c4dae69d19",
    "_uuid": "8f2839f25d086af736a60e9eeb907d3b93b6e0e5",
    "execution": {
     "iopub.execute_input": "2024-01-04T08:46:13.966724Z",
     "iopub.status.busy": "2024-01-04T08:46:13.966002Z",
     "iopub.status.idle": "2024-01-04T08:46:16.549950Z",
     "shell.execute_reply": "2024-01-04T08:46:16.548967Z"
    },
    "papermill": {
     "duration": 2.59542,
     "end_time": "2024-01-04T08:46:16.552027",
     "exception": false,
     "start_time": "2024-01-04T08:46:13.956607",
     "status": "completed"
    },
    "tags": []
   },
   "outputs": [
    {
     "name": "stdout",
     "output_type": "stream",
     "text": [
      "/kaggle/input/spaceship-titanic/sample_submission.csv\n",
      "/kaggle/input/spaceship-titanic/train.csv\n",
      "/kaggle/input/spaceship-titanic/test.csv\n"
     ]
    }
   ],
   "source": [
    "# This Python 3 environment comes with many helpful analytics libraries installed\n",
    "# It is defined by the kaggle/python Docker image: https://github.com/kaggle/docker-python\n",
    "# For example, here's several helpful packages to load\n",
    "\n",
    "import numpy as np # linear algebra\n",
    "import pandas as pd # data processing, CSV file I/O (e.g. pd.read_csv)\n",
    "from sklearn.decomposition import PCA\n",
    "from sklearn.model_selection import train_test_split\n",
    "from sklearn.ensemble import RandomForestClassifier\n",
    "\n",
    "# Input data files are available in the read-only \"../input/\" directory\n",
    "# For example, running this (by clicking run or pressing Shift+Enter) will list all files under the input directory\n",
    "\n",
    "import os\n",
    "for dirname, _, filenames in os.walk('/kaggle/input'):\n",
    "    for filename in filenames:\n",
    "        print(os.path.join(dirname, filename))\n",
    "\n",
    "# You can write up to 20GB to the current directory (/kaggle/working/) that gets preserved as output when you create a version using \"Save & Run All\" \n",
    "# You can also write temporary files to /kaggle/temp/, but they won't be saved outside of the current session"
   ]
  },
  {
   "cell_type": "code",
   "execution_count": 2,
   "id": "da0218f3",
   "metadata": {
    "execution": {
     "iopub.execute_input": "2024-01-04T08:46:16.566750Z",
     "iopub.status.busy": "2024-01-04T08:46:16.565626Z",
     "iopub.status.idle": "2024-01-04T08:46:16.657270Z",
     "shell.execute_reply": "2024-01-04T08:46:16.655610Z"
    },
    "papermill": {
     "duration": 0.103333,
     "end_time": "2024-01-04T08:46:16.661502",
     "exception": false,
     "start_time": "2024-01-04T08:46:16.558169",
     "status": "completed"
    },
    "tags": []
   },
   "outputs": [],
   "source": [
    "train_df = pd.read_csv(\"/kaggle/input/spaceship-titanic/train.csv\")\n",
    "test_df = pd.read_csv(\"/kaggle/input/spaceship-titanic/test.csv\")\n"
   ]
  },
  {
   "cell_type": "code",
   "execution_count": 3,
   "id": "0d2ac228",
   "metadata": {
    "execution": {
     "iopub.execute_input": "2024-01-04T08:46:16.676914Z",
     "iopub.status.busy": "2024-01-04T08:46:16.676373Z",
     "iopub.status.idle": "2024-01-04T08:46:16.716630Z",
     "shell.execute_reply": "2024-01-04T08:46:16.715013Z"
    },
    "papermill": {
     "duration": 0.051505,
     "end_time": "2024-01-04T08:46:16.720066",
     "exception": false,
     "start_time": "2024-01-04T08:46:16.668561",
     "status": "completed"
    },
    "tags": []
   },
   "outputs": [
    {
     "data": {
      "text/html": [
       "<div>\n",
       "<style scoped>\n",
       "    .dataframe tbody tr th:only-of-type {\n",
       "        vertical-align: middle;\n",
       "    }\n",
       "\n",
       "    .dataframe tbody tr th {\n",
       "        vertical-align: top;\n",
       "    }\n",
       "\n",
       "    .dataframe thead th {\n",
       "        text-align: right;\n",
       "    }\n",
       "</style>\n",
       "<table border=\"1\" class=\"dataframe\">\n",
       "  <thead>\n",
       "    <tr style=\"text-align: right;\">\n",
       "      <th></th>\n",
       "      <th>PassengerId</th>\n",
       "      <th>HomePlanet</th>\n",
       "      <th>CryoSleep</th>\n",
       "      <th>Cabin</th>\n",
       "      <th>Destination</th>\n",
       "      <th>Age</th>\n",
       "      <th>VIP</th>\n",
       "      <th>RoomService</th>\n",
       "      <th>FoodCourt</th>\n",
       "      <th>ShoppingMall</th>\n",
       "      <th>Spa</th>\n",
       "      <th>VRDeck</th>\n",
       "      <th>Name</th>\n",
       "      <th>Transported</th>\n",
       "    </tr>\n",
       "  </thead>\n",
       "  <tbody>\n",
       "    <tr>\n",
       "      <th>0</th>\n",
       "      <td>0001_01</td>\n",
       "      <td>Europa</td>\n",
       "      <td>False</td>\n",
       "      <td>B/0/P</td>\n",
       "      <td>TRAPPIST-1e</td>\n",
       "      <td>39.0</td>\n",
       "      <td>False</td>\n",
       "      <td>0.0</td>\n",
       "      <td>0.0</td>\n",
       "      <td>0.0</td>\n",
       "      <td>0.0</td>\n",
       "      <td>0.0</td>\n",
       "      <td>Maham Ofracculy</td>\n",
       "      <td>False</td>\n",
       "    </tr>\n",
       "    <tr>\n",
       "      <th>1</th>\n",
       "      <td>0002_01</td>\n",
       "      <td>Earth</td>\n",
       "      <td>False</td>\n",
       "      <td>F/0/S</td>\n",
       "      <td>TRAPPIST-1e</td>\n",
       "      <td>24.0</td>\n",
       "      <td>False</td>\n",
       "      <td>109.0</td>\n",
       "      <td>9.0</td>\n",
       "      <td>25.0</td>\n",
       "      <td>549.0</td>\n",
       "      <td>44.0</td>\n",
       "      <td>Juanna Vines</td>\n",
       "      <td>True</td>\n",
       "    </tr>\n",
       "    <tr>\n",
       "      <th>2</th>\n",
       "      <td>0003_01</td>\n",
       "      <td>Europa</td>\n",
       "      <td>False</td>\n",
       "      <td>A/0/S</td>\n",
       "      <td>TRAPPIST-1e</td>\n",
       "      <td>58.0</td>\n",
       "      <td>True</td>\n",
       "      <td>43.0</td>\n",
       "      <td>3576.0</td>\n",
       "      <td>0.0</td>\n",
       "      <td>6715.0</td>\n",
       "      <td>49.0</td>\n",
       "      <td>Altark Susent</td>\n",
       "      <td>False</td>\n",
       "    </tr>\n",
       "    <tr>\n",
       "      <th>3</th>\n",
       "      <td>0003_02</td>\n",
       "      <td>Europa</td>\n",
       "      <td>False</td>\n",
       "      <td>A/0/S</td>\n",
       "      <td>TRAPPIST-1e</td>\n",
       "      <td>33.0</td>\n",
       "      <td>False</td>\n",
       "      <td>0.0</td>\n",
       "      <td>1283.0</td>\n",
       "      <td>371.0</td>\n",
       "      <td>3329.0</td>\n",
       "      <td>193.0</td>\n",
       "      <td>Solam Susent</td>\n",
       "      <td>False</td>\n",
       "    </tr>\n",
       "    <tr>\n",
       "      <th>4</th>\n",
       "      <td>0004_01</td>\n",
       "      <td>Earth</td>\n",
       "      <td>False</td>\n",
       "      <td>F/1/S</td>\n",
       "      <td>TRAPPIST-1e</td>\n",
       "      <td>16.0</td>\n",
       "      <td>False</td>\n",
       "      <td>303.0</td>\n",
       "      <td>70.0</td>\n",
       "      <td>151.0</td>\n",
       "      <td>565.0</td>\n",
       "      <td>2.0</td>\n",
       "      <td>Willy Santantines</td>\n",
       "      <td>True</td>\n",
       "    </tr>\n",
       "  </tbody>\n",
       "</table>\n",
       "</div>"
      ],
      "text/plain": [
       "  PassengerId HomePlanet CryoSleep  Cabin  Destination   Age    VIP  \\\n",
       "0     0001_01     Europa     False  B/0/P  TRAPPIST-1e  39.0  False   \n",
       "1     0002_01      Earth     False  F/0/S  TRAPPIST-1e  24.0  False   \n",
       "2     0003_01     Europa     False  A/0/S  TRAPPIST-1e  58.0   True   \n",
       "3     0003_02     Europa     False  A/0/S  TRAPPIST-1e  33.0  False   \n",
       "4     0004_01      Earth     False  F/1/S  TRAPPIST-1e  16.0  False   \n",
       "\n",
       "   RoomService  FoodCourt  ShoppingMall     Spa  VRDeck               Name  \\\n",
       "0          0.0        0.0           0.0     0.0     0.0    Maham Ofracculy   \n",
       "1        109.0        9.0          25.0   549.0    44.0       Juanna Vines   \n",
       "2         43.0     3576.0           0.0  6715.0    49.0      Altark Susent   \n",
       "3          0.0     1283.0         371.0  3329.0   193.0       Solam Susent   \n",
       "4        303.0       70.0         151.0   565.0     2.0  Willy Santantines   \n",
       "\n",
       "   Transported  \n",
       "0        False  \n",
       "1         True  \n",
       "2        False  \n",
       "3        False  \n",
       "4         True  "
      ]
     },
     "execution_count": 3,
     "metadata": {},
     "output_type": "execute_result"
    }
   ],
   "source": [
    "train_df.head()"
   ]
  },
  {
   "cell_type": "code",
   "execution_count": 4,
   "id": "b2337435",
   "metadata": {
    "execution": {
     "iopub.execute_input": "2024-01-04T08:46:16.737308Z",
     "iopub.status.busy": "2024-01-04T08:46:16.735159Z",
     "iopub.status.idle": "2024-01-04T08:46:16.756236Z",
     "shell.execute_reply": "2024-01-04T08:46:16.754883Z"
    },
    "papermill": {
     "duration": 0.031702,
     "end_time": "2024-01-04T08:46:16.758617",
     "exception": false,
     "start_time": "2024-01-04T08:46:16.726915",
     "status": "completed"
    },
    "tags": []
   },
   "outputs": [
    {
     "data": {
      "text/html": [
       "<div>\n",
       "<style scoped>\n",
       "    .dataframe tbody tr th:only-of-type {\n",
       "        vertical-align: middle;\n",
       "    }\n",
       "\n",
       "    .dataframe tbody tr th {\n",
       "        vertical-align: top;\n",
       "    }\n",
       "\n",
       "    .dataframe thead th {\n",
       "        text-align: right;\n",
       "    }\n",
       "</style>\n",
       "<table border=\"1\" class=\"dataframe\">\n",
       "  <thead>\n",
       "    <tr style=\"text-align: right;\">\n",
       "      <th></th>\n",
       "      <th>PassengerId</th>\n",
       "      <th>HomePlanet</th>\n",
       "      <th>CryoSleep</th>\n",
       "      <th>Cabin</th>\n",
       "      <th>Destination</th>\n",
       "      <th>Age</th>\n",
       "      <th>VIP</th>\n",
       "      <th>RoomService</th>\n",
       "      <th>FoodCourt</th>\n",
       "      <th>ShoppingMall</th>\n",
       "      <th>Spa</th>\n",
       "      <th>VRDeck</th>\n",
       "      <th>Name</th>\n",
       "    </tr>\n",
       "  </thead>\n",
       "  <tbody>\n",
       "    <tr>\n",
       "      <th>0</th>\n",
       "      <td>0013_01</td>\n",
       "      <td>Earth</td>\n",
       "      <td>True</td>\n",
       "      <td>G/3/S</td>\n",
       "      <td>TRAPPIST-1e</td>\n",
       "      <td>27.0</td>\n",
       "      <td>False</td>\n",
       "      <td>0.0</td>\n",
       "      <td>0.0</td>\n",
       "      <td>0.0</td>\n",
       "      <td>0.0</td>\n",
       "      <td>0.0</td>\n",
       "      <td>Nelly Carsoning</td>\n",
       "    </tr>\n",
       "    <tr>\n",
       "      <th>1</th>\n",
       "      <td>0018_01</td>\n",
       "      <td>Earth</td>\n",
       "      <td>False</td>\n",
       "      <td>F/4/S</td>\n",
       "      <td>TRAPPIST-1e</td>\n",
       "      <td>19.0</td>\n",
       "      <td>False</td>\n",
       "      <td>0.0</td>\n",
       "      <td>9.0</td>\n",
       "      <td>0.0</td>\n",
       "      <td>2823.0</td>\n",
       "      <td>0.0</td>\n",
       "      <td>Lerome Peckers</td>\n",
       "    </tr>\n",
       "    <tr>\n",
       "      <th>2</th>\n",
       "      <td>0019_01</td>\n",
       "      <td>Europa</td>\n",
       "      <td>True</td>\n",
       "      <td>C/0/S</td>\n",
       "      <td>55 Cancri e</td>\n",
       "      <td>31.0</td>\n",
       "      <td>False</td>\n",
       "      <td>0.0</td>\n",
       "      <td>0.0</td>\n",
       "      <td>0.0</td>\n",
       "      <td>0.0</td>\n",
       "      <td>0.0</td>\n",
       "      <td>Sabih Unhearfus</td>\n",
       "    </tr>\n",
       "    <tr>\n",
       "      <th>3</th>\n",
       "      <td>0021_01</td>\n",
       "      <td>Europa</td>\n",
       "      <td>False</td>\n",
       "      <td>C/1/S</td>\n",
       "      <td>TRAPPIST-1e</td>\n",
       "      <td>38.0</td>\n",
       "      <td>False</td>\n",
       "      <td>0.0</td>\n",
       "      <td>6652.0</td>\n",
       "      <td>0.0</td>\n",
       "      <td>181.0</td>\n",
       "      <td>585.0</td>\n",
       "      <td>Meratz Caltilter</td>\n",
       "    </tr>\n",
       "    <tr>\n",
       "      <th>4</th>\n",
       "      <td>0023_01</td>\n",
       "      <td>Earth</td>\n",
       "      <td>False</td>\n",
       "      <td>F/5/S</td>\n",
       "      <td>TRAPPIST-1e</td>\n",
       "      <td>20.0</td>\n",
       "      <td>False</td>\n",
       "      <td>10.0</td>\n",
       "      <td>0.0</td>\n",
       "      <td>635.0</td>\n",
       "      <td>0.0</td>\n",
       "      <td>0.0</td>\n",
       "      <td>Brence Harperez</td>\n",
       "    </tr>\n",
       "  </tbody>\n",
       "</table>\n",
       "</div>"
      ],
      "text/plain": [
       "  PassengerId HomePlanet CryoSleep  Cabin  Destination   Age    VIP  \\\n",
       "0     0013_01      Earth      True  G/3/S  TRAPPIST-1e  27.0  False   \n",
       "1     0018_01      Earth     False  F/4/S  TRAPPIST-1e  19.0  False   \n",
       "2     0019_01     Europa      True  C/0/S  55 Cancri e  31.0  False   \n",
       "3     0021_01     Europa     False  C/1/S  TRAPPIST-1e  38.0  False   \n",
       "4     0023_01      Earth     False  F/5/S  TRAPPIST-1e  20.0  False   \n",
       "\n",
       "   RoomService  FoodCourt  ShoppingMall     Spa  VRDeck              Name  \n",
       "0          0.0        0.0           0.0     0.0     0.0   Nelly Carsoning  \n",
       "1          0.0        9.0           0.0  2823.0     0.0    Lerome Peckers  \n",
       "2          0.0        0.0           0.0     0.0     0.0   Sabih Unhearfus  \n",
       "3          0.0     6652.0           0.0   181.0   585.0  Meratz Caltilter  \n",
       "4         10.0        0.0         635.0     0.0     0.0   Brence Harperez  "
      ]
     },
     "execution_count": 4,
     "metadata": {},
     "output_type": "execute_result"
    }
   ],
   "source": [
    "test_df.head()"
   ]
  },
  {
   "cell_type": "code",
   "execution_count": 5,
   "id": "0303ddd1",
   "metadata": {
    "execution": {
     "iopub.execute_input": "2024-01-04T08:46:16.775374Z",
     "iopub.status.busy": "2024-01-04T08:46:16.773848Z",
     "iopub.status.idle": "2024-01-04T08:46:16.814320Z",
     "shell.execute_reply": "2024-01-04T08:46:16.812323Z"
    },
    "papermill": {
     "duration": 0.051931,
     "end_time": "2024-01-04T08:46:16.817453",
     "exception": false,
     "start_time": "2024-01-04T08:46:16.765522",
     "status": "completed"
    },
    "tags": []
   },
   "outputs": [
    {
     "name": "stdout",
     "output_type": "stream",
     "text": [
      "<class 'pandas.core.frame.DataFrame'>\n",
      "RangeIndex: 8693 entries, 0 to 8692\n",
      "Data columns (total 14 columns):\n",
      " #   Column        Non-Null Count  Dtype  \n",
      "---  ------        --------------  -----  \n",
      " 0   PassengerId   8693 non-null   object \n",
      " 1   HomePlanet    8492 non-null   object \n",
      " 2   CryoSleep     8476 non-null   object \n",
      " 3   Cabin         8494 non-null   object \n",
      " 4   Destination   8511 non-null   object \n",
      " 5   Age           8514 non-null   float64\n",
      " 6   VIP           8490 non-null   object \n",
      " 7   RoomService   8512 non-null   float64\n",
      " 8   FoodCourt     8510 non-null   float64\n",
      " 9   ShoppingMall  8485 non-null   float64\n",
      " 10  Spa           8510 non-null   float64\n",
      " 11  VRDeck        8505 non-null   float64\n",
      " 12  Name          8493 non-null   object \n",
      " 13  Transported   8693 non-null   bool   \n",
      "dtypes: bool(1), float64(6), object(7)\n",
      "memory usage: 891.5+ KB\n"
     ]
    }
   ],
   "source": [
    "train_df.info()"
   ]
  },
  {
   "cell_type": "markdown",
   "id": "02b7b21b",
   "metadata": {
    "papermill": {
     "duration": 0.0063,
     "end_time": "2024-01-04T08:46:16.830626",
     "exception": false,
     "start_time": "2024-01-04T08:46:16.824326",
     "status": "completed"
    },
    "tags": []
   },
   "source": [
    "8693,4277"
   ]
  },
  {
   "cell_type": "code",
   "execution_count": 6,
   "id": "30d6539a",
   "metadata": {
    "execution": {
     "iopub.execute_input": "2024-01-04T08:46:16.846337Z",
     "iopub.status.busy": "2024-01-04T08:46:16.845444Z",
     "iopub.status.idle": "2024-01-04T08:46:16.860591Z",
     "shell.execute_reply": "2024-01-04T08:46:16.858135Z"
    },
    "papermill": {
     "duration": 0.026188,
     "end_time": "2024-01-04T08:46:16.863282",
     "exception": false,
     "start_time": "2024-01-04T08:46:16.837094",
     "status": "completed"
    },
    "tags": []
   },
   "outputs": [
    {
     "name": "stdout",
     "output_type": "stream",
     "text": [
      "<class 'pandas.core.frame.DataFrame'>\n",
      "RangeIndex: 4277 entries, 0 to 4276\n",
      "Data columns (total 13 columns):\n",
      " #   Column        Non-Null Count  Dtype  \n",
      "---  ------        --------------  -----  \n",
      " 0   PassengerId   4277 non-null   object \n",
      " 1   HomePlanet    4190 non-null   object \n",
      " 2   CryoSleep     4184 non-null   object \n",
      " 3   Cabin         4177 non-null   object \n",
      " 4   Destination   4185 non-null   object \n",
      " 5   Age           4186 non-null   float64\n",
      " 6   VIP           4184 non-null   object \n",
      " 7   RoomService   4195 non-null   float64\n",
      " 8   FoodCourt     4171 non-null   float64\n",
      " 9   ShoppingMall  4179 non-null   float64\n",
      " 10  Spa           4176 non-null   float64\n",
      " 11  VRDeck        4197 non-null   float64\n",
      " 12  Name          4183 non-null   object \n",
      "dtypes: float64(6), object(7)\n",
      "memory usage: 434.5+ KB\n"
     ]
    }
   ],
   "source": [
    "test_df.info()"
   ]
  },
  {
   "cell_type": "code",
   "execution_count": 7,
   "id": "1ec322c6",
   "metadata": {
    "execution": {
     "iopub.execute_input": "2024-01-04T08:46:16.877901Z",
     "iopub.status.busy": "2024-01-04T08:46:16.877407Z",
     "iopub.status.idle": "2024-01-04T08:46:16.894837Z",
     "shell.execute_reply": "2024-01-04T08:46:16.892136Z"
    },
    "papermill": {
     "duration": 0.028506,
     "end_time": "2024-01-04T08:46:16.898325",
     "exception": false,
     "start_time": "2024-01-04T08:46:16.869819",
     "status": "completed"
    },
    "tags": []
   },
   "outputs": [],
   "source": [
    "train_df = train_df.drop(['PassengerId','Name'],axis=1)\n",
    "test_df = test_df.drop(['Name'],axis=1)"
   ]
  },
  {
   "cell_type": "code",
   "execution_count": 8,
   "id": "0ec8ffa5",
   "metadata": {
    "execution": {
     "iopub.execute_input": "2024-01-04T08:46:16.914954Z",
     "iopub.status.busy": "2024-01-04T08:46:16.914432Z",
     "iopub.status.idle": "2024-01-04T08:46:16.926423Z",
     "shell.execute_reply": "2024-01-04T08:46:16.924617Z"
    },
    "papermill": {
     "duration": 0.023613,
     "end_time": "2024-01-04T08:46:16.929672",
     "exception": false,
     "start_time": "2024-01-04T08:46:16.906059",
     "status": "completed"
    },
    "tags": []
   },
   "outputs": [
    {
     "data": {
      "text/plain": [
       "HomePlanet\n",
       "Earth     4602\n",
       "Europa    2131\n",
       "Mars      1759\n",
       "Name: count, dtype: int64"
      ]
     },
     "execution_count": 8,
     "metadata": {},
     "output_type": "execute_result"
    }
   ],
   "source": [
    "train_df[\"HomePlanet\"].value_counts()"
   ]
  },
  {
   "cell_type": "code",
   "execution_count": 9,
   "id": "f825e4c8",
   "metadata": {
    "execution": {
     "iopub.execute_input": "2024-01-04T08:46:16.946491Z",
     "iopub.status.busy": "2024-01-04T08:46:16.946019Z",
     "iopub.status.idle": "2024-01-04T08:46:16.956752Z",
     "shell.execute_reply": "2024-01-04T08:46:16.954614Z"
    },
    "papermill": {
     "duration": 0.022598,
     "end_time": "2024-01-04T08:46:16.960093",
     "exception": false,
     "start_time": "2024-01-04T08:46:16.937495",
     "status": "completed"
    },
    "tags": []
   },
   "outputs": [
    {
     "data": {
      "text/plain": [
       "201"
      ]
     },
     "execution_count": 9,
     "metadata": {},
     "output_type": "execute_result"
    }
   ],
   "source": [
    "train_df[\"HomePlanet\"].isnull().sum()"
   ]
  },
  {
   "cell_type": "code",
   "execution_count": 10,
   "id": "51da2881",
   "metadata": {
    "execution": {
     "iopub.execute_input": "2024-01-04T08:46:16.978415Z",
     "iopub.status.busy": "2024-01-04T08:46:16.976902Z",
     "iopub.status.idle": "2024-01-04T08:46:17.006080Z",
     "shell.execute_reply": "2024-01-04T08:46:17.004299Z"
    },
    "papermill": {
     "duration": 0.040424,
     "end_time": "2024-01-04T08:46:17.008944",
     "exception": false,
     "start_time": "2024-01-04T08:46:16.968520",
     "status": "completed"
    },
    "tags": []
   },
   "outputs": [],
   "source": [
    "train_df['CryoSleep'] = train_df['CryoSleep'].fillna(0)\n",
    "train_df['VIP'] = train_df['VIP'].fillna(0)\n",
    "train_df['Cabin'] = train_df['Cabin'].fillna(train_df['Cabin'].mode()[0])\n",
    "train_df['HomePlanet'] = train_df['HomePlanet'].fillna(train_df['HomePlanet'].mode()[0])\n",
    "train_df['Destination'] = train_df['Destination'].fillna(train_df['Destination'].mode()[0])\n",
    "train_df['ShoppingMall'] = train_df['ShoppingMall'].fillna(train_df['ShoppingMall'].median())\n",
    "train_df['VRDeck'] = train_df['VRDeck'].fillna(train_df['VRDeck'].median())\n",
    "train_df['FoodCourt'] = train_df['FoodCourt'].fillna(train_df['FoodCourt'].median())\n",
    "train_df['Spa'] = train_df['Spa'].fillna(train_df['Spa'].median())\n",
    "train_df['RoomService'] = train_df['RoomService'].fillna(train_df['RoomService'].median())\n",
    "train_df['Age'] = train_df['Age'].fillna(train_df['Age'].median())"
   ]
  },
  {
   "cell_type": "code",
   "execution_count": 11,
   "id": "9ba732d9",
   "metadata": {
    "execution": {
     "iopub.execute_input": "2024-01-04T08:46:17.024673Z",
     "iopub.status.busy": "2024-01-04T08:46:17.024190Z",
     "iopub.status.idle": "2024-01-04T08:46:17.045582Z",
     "shell.execute_reply": "2024-01-04T08:46:17.043602Z"
    },
    "papermill": {
     "duration": 0.032567,
     "end_time": "2024-01-04T08:46:17.048535",
     "exception": false,
     "start_time": "2024-01-04T08:46:17.015968",
     "status": "completed"
    },
    "tags": []
   },
   "outputs": [],
   "source": [
    "cab = train_df[\"Cabin\"].apply(lambda x: x.split(\"/\"))\n",
    "\n",
    "train_df[\"Cab_1\"] = cab.apply(lambda x: x[0])\n",
    "train_df[\"Cab_3\"] = cab.apply(lambda x: x[2])\n",
    "train_df[\"Cab_2\"] = cab.apply(lambda x: float(x[1]))"
   ]
  },
  {
   "cell_type": "code",
   "execution_count": 12,
   "id": "91c91ee1",
   "metadata": {
    "execution": {
     "iopub.execute_input": "2024-01-04T08:46:17.065979Z",
     "iopub.status.busy": "2024-01-04T08:46:17.064568Z",
     "iopub.status.idle": "2024-01-04T08:46:17.073215Z",
     "shell.execute_reply": "2024-01-04T08:46:17.072225Z"
    },
    "papermill": {
     "duration": 0.020663,
     "end_time": "2024-01-04T08:46:17.076263",
     "exception": false,
     "start_time": "2024-01-04T08:46:17.055600",
     "status": "completed"
    },
    "tags": []
   },
   "outputs": [],
   "source": [
    "train_df = train_df.drop(['Cabin'],axis=1)"
   ]
  },
  {
   "cell_type": "code",
   "execution_count": 13,
   "id": "b9c54cf6",
   "metadata": {
    "execution": {
     "iopub.execute_input": "2024-01-04T08:46:17.095806Z",
     "iopub.status.busy": "2024-01-04T08:46:17.095330Z",
     "iopub.status.idle": "2024-01-04T08:46:17.104642Z",
     "shell.execute_reply": "2024-01-04T08:46:17.102637Z"
    },
    "papermill": {
     "duration": 0.024032,
     "end_time": "2024-01-04T08:46:17.107536",
     "exception": false,
     "start_time": "2024-01-04T08:46:17.083504",
     "status": "completed"
    },
    "tags": []
   },
   "outputs": [],
   "source": [
    "train_df[\"VIP\"] = train_df[\"VIP\"].astype(int)\n",
    "train_df[\"CryoSleep\"] = train_df[\"CryoSleep\"].astype(int)"
   ]
  },
  {
   "cell_type": "code",
   "execution_count": 14,
   "id": "2003cc91",
   "metadata": {
    "execution": {
     "iopub.execute_input": "2024-01-04T08:46:17.124275Z",
     "iopub.status.busy": "2024-01-04T08:46:17.123829Z",
     "iopub.status.idle": "2024-01-04T08:46:17.137824Z",
     "shell.execute_reply": "2024-01-04T08:46:17.135688Z"
    },
    "papermill": {
     "duration": 0.025992,
     "end_time": "2024-01-04T08:46:17.141062",
     "exception": false,
     "start_time": "2024-01-04T08:46:17.115070",
     "status": "completed"
    },
    "tags": []
   },
   "outputs": [
    {
     "data": {
      "text/plain": [
       "HomePlanet      0\n",
       "CryoSleep       0\n",
       "Destination     0\n",
       "Age             0\n",
       "VIP             0\n",
       "RoomService     0\n",
       "FoodCourt       0\n",
       "ShoppingMall    0\n",
       "Spa             0\n",
       "VRDeck          0\n",
       "Transported     0\n",
       "Cab_1           0\n",
       "Cab_3           0\n",
       "Cab_2           0\n",
       "dtype: int64"
      ]
     },
     "execution_count": 14,
     "metadata": {},
     "output_type": "execute_result"
    }
   ],
   "source": [
    "train_df.isna().sum() "
   ]
  },
  {
   "cell_type": "code",
   "execution_count": 15,
   "id": "4372e17c",
   "metadata": {
    "execution": {
     "iopub.execute_input": "2024-01-04T08:46:17.157501Z",
     "iopub.status.busy": "2024-01-04T08:46:17.156955Z",
     "iopub.status.idle": "2024-01-04T08:46:17.209551Z",
     "shell.execute_reply": "2024-01-04T08:46:17.207992Z"
    },
    "papermill": {
     "duration": 0.065124,
     "end_time": "2024-01-04T08:46:17.213553",
     "exception": false,
     "start_time": "2024-01-04T08:46:17.148429",
     "status": "completed"
    },
    "tags": []
   },
   "outputs": [
    {
     "data": {
      "text/html": [
       "<div>\n",
       "<style scoped>\n",
       "    .dataframe tbody tr th:only-of-type {\n",
       "        vertical-align: middle;\n",
       "    }\n",
       "\n",
       "    .dataframe tbody tr th {\n",
       "        vertical-align: top;\n",
       "    }\n",
       "\n",
       "    .dataframe thead th {\n",
       "        text-align: right;\n",
       "    }\n",
       "</style>\n",
       "<table border=\"1\" class=\"dataframe\">\n",
       "  <thead>\n",
       "    <tr style=\"text-align: right;\">\n",
       "      <th></th>\n",
       "      <th>CryoSleep</th>\n",
       "      <th>Age</th>\n",
       "      <th>VIP</th>\n",
       "      <th>RoomService</th>\n",
       "      <th>FoodCourt</th>\n",
       "      <th>ShoppingMall</th>\n",
       "      <th>Spa</th>\n",
       "      <th>VRDeck</th>\n",
       "      <th>Cab_2</th>\n",
       "      <th>HomePlanet_Earth</th>\n",
       "      <th>...</th>\n",
       "      <th>Cab_1_A</th>\n",
       "      <th>Cab_1_B</th>\n",
       "      <th>Cab_1_C</th>\n",
       "      <th>Cab_1_D</th>\n",
       "      <th>Cab_1_E</th>\n",
       "      <th>Cab_1_F</th>\n",
       "      <th>Cab_1_G</th>\n",
       "      <th>Cab_1_T</th>\n",
       "      <th>Cab_3_P</th>\n",
       "      <th>Cab_3_S</th>\n",
       "    </tr>\n",
       "  </thead>\n",
       "  <tbody>\n",
       "    <tr>\n",
       "      <th>0</th>\n",
       "      <td>0</td>\n",
       "      <td>39.0</td>\n",
       "      <td>0</td>\n",
       "      <td>0.0</td>\n",
       "      <td>0.0</td>\n",
       "      <td>0.0</td>\n",
       "      <td>0.0</td>\n",
       "      <td>0.0</td>\n",
       "      <td>0.0</td>\n",
       "      <td>False</td>\n",
       "      <td>...</td>\n",
       "      <td>False</td>\n",
       "      <td>True</td>\n",
       "      <td>False</td>\n",
       "      <td>False</td>\n",
       "      <td>False</td>\n",
       "      <td>False</td>\n",
       "      <td>False</td>\n",
       "      <td>False</td>\n",
       "      <td>True</td>\n",
       "      <td>False</td>\n",
       "    </tr>\n",
       "    <tr>\n",
       "      <th>1</th>\n",
       "      <td>0</td>\n",
       "      <td>24.0</td>\n",
       "      <td>0</td>\n",
       "      <td>109.0</td>\n",
       "      <td>9.0</td>\n",
       "      <td>25.0</td>\n",
       "      <td>549.0</td>\n",
       "      <td>44.0</td>\n",
       "      <td>0.0</td>\n",
       "      <td>True</td>\n",
       "      <td>...</td>\n",
       "      <td>False</td>\n",
       "      <td>False</td>\n",
       "      <td>False</td>\n",
       "      <td>False</td>\n",
       "      <td>False</td>\n",
       "      <td>True</td>\n",
       "      <td>False</td>\n",
       "      <td>False</td>\n",
       "      <td>False</td>\n",
       "      <td>True</td>\n",
       "    </tr>\n",
       "    <tr>\n",
       "      <th>2</th>\n",
       "      <td>0</td>\n",
       "      <td>58.0</td>\n",
       "      <td>1</td>\n",
       "      <td>43.0</td>\n",
       "      <td>3576.0</td>\n",
       "      <td>0.0</td>\n",
       "      <td>6715.0</td>\n",
       "      <td>49.0</td>\n",
       "      <td>0.0</td>\n",
       "      <td>False</td>\n",
       "      <td>...</td>\n",
       "      <td>True</td>\n",
       "      <td>False</td>\n",
       "      <td>False</td>\n",
       "      <td>False</td>\n",
       "      <td>False</td>\n",
       "      <td>False</td>\n",
       "      <td>False</td>\n",
       "      <td>False</td>\n",
       "      <td>False</td>\n",
       "      <td>True</td>\n",
       "    </tr>\n",
       "    <tr>\n",
       "      <th>3</th>\n",
       "      <td>0</td>\n",
       "      <td>33.0</td>\n",
       "      <td>0</td>\n",
       "      <td>0.0</td>\n",
       "      <td>1283.0</td>\n",
       "      <td>371.0</td>\n",
       "      <td>3329.0</td>\n",
       "      <td>193.0</td>\n",
       "      <td>0.0</td>\n",
       "      <td>False</td>\n",
       "      <td>...</td>\n",
       "      <td>True</td>\n",
       "      <td>False</td>\n",
       "      <td>False</td>\n",
       "      <td>False</td>\n",
       "      <td>False</td>\n",
       "      <td>False</td>\n",
       "      <td>False</td>\n",
       "      <td>False</td>\n",
       "      <td>False</td>\n",
       "      <td>True</td>\n",
       "    </tr>\n",
       "    <tr>\n",
       "      <th>4</th>\n",
       "      <td>0</td>\n",
       "      <td>16.0</td>\n",
       "      <td>0</td>\n",
       "      <td>303.0</td>\n",
       "      <td>70.0</td>\n",
       "      <td>151.0</td>\n",
       "      <td>565.0</td>\n",
       "      <td>2.0</td>\n",
       "      <td>1.0</td>\n",
       "      <td>True</td>\n",
       "      <td>...</td>\n",
       "      <td>False</td>\n",
       "      <td>False</td>\n",
       "      <td>False</td>\n",
       "      <td>False</td>\n",
       "      <td>False</td>\n",
       "      <td>True</td>\n",
       "      <td>False</td>\n",
       "      <td>False</td>\n",
       "      <td>False</td>\n",
       "      <td>True</td>\n",
       "    </tr>\n",
       "    <tr>\n",
       "      <th>...</th>\n",
       "      <td>...</td>\n",
       "      <td>...</td>\n",
       "      <td>...</td>\n",
       "      <td>...</td>\n",
       "      <td>...</td>\n",
       "      <td>...</td>\n",
       "      <td>...</td>\n",
       "      <td>...</td>\n",
       "      <td>...</td>\n",
       "      <td>...</td>\n",
       "      <td>...</td>\n",
       "      <td>...</td>\n",
       "      <td>...</td>\n",
       "      <td>...</td>\n",
       "      <td>...</td>\n",
       "      <td>...</td>\n",
       "      <td>...</td>\n",
       "      <td>...</td>\n",
       "      <td>...</td>\n",
       "      <td>...</td>\n",
       "      <td>...</td>\n",
       "    </tr>\n",
       "    <tr>\n",
       "      <th>8688</th>\n",
       "      <td>0</td>\n",
       "      <td>41.0</td>\n",
       "      <td>1</td>\n",
       "      <td>0.0</td>\n",
       "      <td>6819.0</td>\n",
       "      <td>0.0</td>\n",
       "      <td>1643.0</td>\n",
       "      <td>74.0</td>\n",
       "      <td>98.0</td>\n",
       "      <td>False</td>\n",
       "      <td>...</td>\n",
       "      <td>True</td>\n",
       "      <td>False</td>\n",
       "      <td>False</td>\n",
       "      <td>False</td>\n",
       "      <td>False</td>\n",
       "      <td>False</td>\n",
       "      <td>False</td>\n",
       "      <td>False</td>\n",
       "      <td>True</td>\n",
       "      <td>False</td>\n",
       "    </tr>\n",
       "    <tr>\n",
       "      <th>8689</th>\n",
       "      <td>1</td>\n",
       "      <td>18.0</td>\n",
       "      <td>0</td>\n",
       "      <td>0.0</td>\n",
       "      <td>0.0</td>\n",
       "      <td>0.0</td>\n",
       "      <td>0.0</td>\n",
       "      <td>0.0</td>\n",
       "      <td>1499.0</td>\n",
       "      <td>True</td>\n",
       "      <td>...</td>\n",
       "      <td>False</td>\n",
       "      <td>False</td>\n",
       "      <td>False</td>\n",
       "      <td>False</td>\n",
       "      <td>False</td>\n",
       "      <td>False</td>\n",
       "      <td>True</td>\n",
       "      <td>False</td>\n",
       "      <td>False</td>\n",
       "      <td>True</td>\n",
       "    </tr>\n",
       "    <tr>\n",
       "      <th>8690</th>\n",
       "      <td>0</td>\n",
       "      <td>26.0</td>\n",
       "      <td>0</td>\n",
       "      <td>0.0</td>\n",
       "      <td>0.0</td>\n",
       "      <td>1872.0</td>\n",
       "      <td>1.0</td>\n",
       "      <td>0.0</td>\n",
       "      <td>1500.0</td>\n",
       "      <td>True</td>\n",
       "      <td>...</td>\n",
       "      <td>False</td>\n",
       "      <td>False</td>\n",
       "      <td>False</td>\n",
       "      <td>False</td>\n",
       "      <td>False</td>\n",
       "      <td>False</td>\n",
       "      <td>True</td>\n",
       "      <td>False</td>\n",
       "      <td>False</td>\n",
       "      <td>True</td>\n",
       "    </tr>\n",
       "    <tr>\n",
       "      <th>8691</th>\n",
       "      <td>0</td>\n",
       "      <td>32.0</td>\n",
       "      <td>0</td>\n",
       "      <td>0.0</td>\n",
       "      <td>1049.0</td>\n",
       "      <td>0.0</td>\n",
       "      <td>353.0</td>\n",
       "      <td>3235.0</td>\n",
       "      <td>608.0</td>\n",
       "      <td>False</td>\n",
       "      <td>...</td>\n",
       "      <td>False</td>\n",
       "      <td>False</td>\n",
       "      <td>False</td>\n",
       "      <td>False</td>\n",
       "      <td>True</td>\n",
       "      <td>False</td>\n",
       "      <td>False</td>\n",
       "      <td>False</td>\n",
       "      <td>False</td>\n",
       "      <td>True</td>\n",
       "    </tr>\n",
       "    <tr>\n",
       "      <th>8692</th>\n",
       "      <td>0</td>\n",
       "      <td>44.0</td>\n",
       "      <td>0</td>\n",
       "      <td>126.0</td>\n",
       "      <td>4688.0</td>\n",
       "      <td>0.0</td>\n",
       "      <td>0.0</td>\n",
       "      <td>12.0</td>\n",
       "      <td>608.0</td>\n",
       "      <td>False</td>\n",
       "      <td>...</td>\n",
       "      <td>False</td>\n",
       "      <td>False</td>\n",
       "      <td>False</td>\n",
       "      <td>False</td>\n",
       "      <td>True</td>\n",
       "      <td>False</td>\n",
       "      <td>False</td>\n",
       "      <td>False</td>\n",
       "      <td>False</td>\n",
       "      <td>True</td>\n",
       "    </tr>\n",
       "  </tbody>\n",
       "</table>\n",
       "<p>8693 rows × 25 columns</p>\n",
       "</div>"
      ],
      "text/plain": [
       "      CryoSleep   Age  VIP  RoomService  FoodCourt  ShoppingMall     Spa  \\\n",
       "0             0  39.0    0          0.0        0.0           0.0     0.0   \n",
       "1             0  24.0    0        109.0        9.0          25.0   549.0   \n",
       "2             0  58.0    1         43.0     3576.0           0.0  6715.0   \n",
       "3             0  33.0    0          0.0     1283.0         371.0  3329.0   \n",
       "4             0  16.0    0        303.0       70.0         151.0   565.0   \n",
       "...         ...   ...  ...          ...        ...           ...     ...   \n",
       "8688          0  41.0    1          0.0     6819.0           0.0  1643.0   \n",
       "8689          1  18.0    0          0.0        0.0           0.0     0.0   \n",
       "8690          0  26.0    0          0.0        0.0        1872.0     1.0   \n",
       "8691          0  32.0    0          0.0     1049.0           0.0   353.0   \n",
       "8692          0  44.0    0        126.0     4688.0           0.0     0.0   \n",
       "\n",
       "      VRDeck   Cab_2  HomePlanet_Earth  ...  Cab_1_A  Cab_1_B  Cab_1_C  \\\n",
       "0        0.0     0.0             False  ...    False     True    False   \n",
       "1       44.0     0.0              True  ...    False    False    False   \n",
       "2       49.0     0.0             False  ...     True    False    False   \n",
       "3      193.0     0.0             False  ...     True    False    False   \n",
       "4        2.0     1.0              True  ...    False    False    False   \n",
       "...      ...     ...               ...  ...      ...      ...      ...   \n",
       "8688    74.0    98.0             False  ...     True    False    False   \n",
       "8689     0.0  1499.0              True  ...    False    False    False   \n",
       "8690     0.0  1500.0              True  ...    False    False    False   \n",
       "8691  3235.0   608.0             False  ...    False    False    False   \n",
       "8692    12.0   608.0             False  ...    False    False    False   \n",
       "\n",
       "      Cab_1_D  Cab_1_E  Cab_1_F  Cab_1_G  Cab_1_T  Cab_3_P  Cab_3_S  \n",
       "0       False    False    False    False    False     True    False  \n",
       "1       False    False     True    False    False    False     True  \n",
       "2       False    False    False    False    False    False     True  \n",
       "3       False    False    False    False    False    False     True  \n",
       "4       False    False     True    False    False    False     True  \n",
       "...       ...      ...      ...      ...      ...      ...      ...  \n",
       "8688    False    False    False    False    False     True    False  \n",
       "8689    False    False    False     True    False    False     True  \n",
       "8690    False    False    False     True    False    False     True  \n",
       "8691    False     True    False    False    False    False     True  \n",
       "8692    False     True    False    False    False    False     True  \n",
       "\n",
       "[8693 rows x 25 columns]"
      ]
     },
     "execution_count": 15,
     "metadata": {},
     "output_type": "execute_result"
    }
   ],
   "source": [
    "input_data = train_df.drop(['Transported'], axis = 1)\n",
    "encoding_train_data = pd.get_dummies(input_data)\n",
    "encoding_train_data"
   ]
  },
  {
   "cell_type": "code",
   "execution_count": 16,
   "id": "b866ae5d",
   "metadata": {
    "execution": {
     "iopub.execute_input": "2024-01-04T08:46:17.232679Z",
     "iopub.status.busy": "2024-01-04T08:46:17.232124Z",
     "iopub.status.idle": "2024-01-04T08:46:17.403493Z",
     "shell.execute_reply": "2024-01-04T08:46:17.402445Z"
    },
    "papermill": {
     "duration": 0.184854,
     "end_time": "2024-01-04T08:46:17.406082",
     "exception": false,
     "start_time": "2024-01-04T08:46:17.221228",
     "status": "completed"
    },
    "tags": []
   },
   "outputs": [
    {
     "data": {
      "text/html": [
       "<div>\n",
       "<style scoped>\n",
       "    .dataframe tbody tr th:only-of-type {\n",
       "        vertical-align: middle;\n",
       "    }\n",
       "\n",
       "    .dataframe tbody tr th {\n",
       "        vertical-align: top;\n",
       "    }\n",
       "\n",
       "    .dataframe thead th {\n",
       "        text-align: right;\n",
       "    }\n",
       "</style>\n",
       "<table border=\"1\" class=\"dataframe\">\n",
       "  <thead>\n",
       "    <tr style=\"text-align: right;\">\n",
       "      <th></th>\n",
       "      <th>pca_col0</th>\n",
       "      <th>pca_col1</th>\n",
       "      <th>pca_col2</th>\n",
       "      <th>pca_col3</th>\n",
       "      <th>pca_col4</th>\n",
       "      <th>pca_col5</th>\n",
       "      <th>pca_col6</th>\n",
       "      <th>pca_col7</th>\n",
       "      <th>pca_col8</th>\n",
       "      <th>pca_col9</th>\n",
       "    </tr>\n",
       "  </thead>\n",
       "  <tbody>\n",
       "    <tr>\n",
       "      <th>0</th>\n",
       "      <td>-535.341608</td>\n",
       "      <td>-188.714234</td>\n",
       "      <td>-27.402263</td>\n",
       "      <td>-245.542583</td>\n",
       "      <td>-117.236821</td>\n",
       "      <td>-653.549626</td>\n",
       "      <td>9.880905</td>\n",
       "      <td>-0.795466</td>\n",
       "      <td>-0.333336</td>\n",
       "      <td>-0.024570</td>\n",
       "    </tr>\n",
       "    <tr>\n",
       "      <th>1</th>\n",
       "      <td>-364.459550</td>\n",
       "      <td>174.658510</td>\n",
       "      <td>351.457547</td>\n",
       "      <td>-144.056623</td>\n",
       "      <td>-124.735259</td>\n",
       "      <td>-625.822240</td>\n",
       "      <td>-5.913153</td>\n",
       "      <td>0.531463</td>\n",
       "      <td>-0.167721</td>\n",
       "      <td>-0.964980</td>\n",
       "    </tr>\n",
       "    <tr>\n",
       "      <th>2</th>\n",
       "      <td>4601.931282</td>\n",
       "      <td>2538.931628</td>\n",
       "      <td>4854.954707</td>\n",
       "      <td>-308.596940</td>\n",
       "      <td>-180.206149</td>\n",
       "      <td>-199.073765</td>\n",
       "      <td>19.218088</td>\n",
       "      <td>0.580175</td>\n",
       "      <td>-0.077342</td>\n",
       "      <td>-0.557735</td>\n",
       "    </tr>\n",
       "    <tr>\n",
       "      <th>3</th>\n",
       "      <td>1609.037457</td>\n",
       "      <td>1476.550534</td>\n",
       "      <td>2291.396683</td>\n",
       "      <td>-211.097397</td>\n",
       "      <td>214.339625</td>\n",
       "      <td>-444.473482</td>\n",
       "      <td>-0.914852</td>\n",
       "      <td>0.608189</td>\n",
       "      <td>-0.336551</td>\n",
       "      <td>-0.338938</td>\n",
       "    </tr>\n",
       "    <tr>\n",
       "      <th>4</th>\n",
       "      <td>-318.081789</td>\n",
       "      <td>132.973183</td>\n",
       "      <td>397.172652</td>\n",
       "      <td>73.585942</td>\n",
       "      <td>-48.130304</td>\n",
       "      <td>-620.137253</td>\n",
       "      <td>-14.317681</td>\n",
       "      <td>0.542590</td>\n",
       "      <td>-0.169890</td>\n",
       "      <td>-0.926218</td>\n",
       "    </tr>\n",
       "    <tr>\n",
       "      <th>...</th>\n",
       "      <td>...</td>\n",
       "      <td>...</td>\n",
       "      <td>...</td>\n",
       "      <td>...</td>\n",
       "      <td>...</td>\n",
       "      <td>...</td>\n",
       "      <td>...</td>\n",
       "      <td>...</td>\n",
       "      <td>...</td>\n",
       "      <td>...</td>\n",
       "    </tr>\n",
       "    <tr>\n",
       "      <th>8688</th>\n",
       "      <td>6177.764461</td>\n",
       "      <td>-1848.039711</td>\n",
       "      <td>1045.851479</td>\n",
       "      <td>-222.926866</td>\n",
       "      <td>-92.463198</td>\n",
       "      <td>-162.508568</td>\n",
       "      <td>5.446957</td>\n",
       "      <td>-0.776062</td>\n",
       "      <td>0.103720</td>\n",
       "      <td>0.706790</td>\n",
       "    </tr>\n",
       "    <tr>\n",
       "      <th>8689</th>\n",
       "      <td>-638.376256</td>\n",
       "      <td>-249.958356</td>\n",
       "      <td>-24.085179</td>\n",
       "      <td>-272.003927</td>\n",
       "      <td>-105.952546</td>\n",
       "      <td>840.422038</td>\n",
       "      <td>-7.052930</td>\n",
       "      <td>0.881964</td>\n",
       "      <td>0.700776</td>\n",
       "      <td>0.750458</td>\n",
       "    </tr>\n",
       "    <tr>\n",
       "      <th>8690</th>\n",
       "      <td>-646.566241</td>\n",
       "      <td>-232.940637</td>\n",
       "      <td>6.041793</td>\n",
       "      <td>170.495177</td>\n",
       "      <td>1712.649361</td>\n",
       "      <td>835.555114</td>\n",
       "      <td>-0.404533</td>\n",
       "      <td>0.880952</td>\n",
       "      <td>0.697199</td>\n",
       "      <td>-0.144583</td>\n",
       "    </tr>\n",
       "    <tr>\n",
       "      <th>8691</th>\n",
       "      <td>1397.579301</td>\n",
       "      <td>1789.264375</td>\n",
       "      <td>-1956.462314</td>\n",
       "      <td>-201.677446</td>\n",
       "      <td>-103.007847</td>\n",
       "      <td>175.840205</td>\n",
       "      <td>1.038971</td>\n",
       "      <td>0.723251</td>\n",
       "      <td>-0.335986</td>\n",
       "      <td>0.873072</td>\n",
       "    </tr>\n",
       "    <tr>\n",
       "      <th>8692</th>\n",
       "      <td>3719.998425</td>\n",
       "      <td>-2070.353432</td>\n",
       "      <td>-93.995326</td>\n",
       "      <td>-95.068890</td>\n",
       "      <td>-113.411216</td>\n",
       "      <td>175.586512</td>\n",
       "      <td>12.944569</td>\n",
       "      <td>0.592452</td>\n",
       "      <td>-0.388558</td>\n",
       "      <td>-0.336595</td>\n",
       "    </tr>\n",
       "  </tbody>\n",
       "</table>\n",
       "<p>8693 rows × 10 columns</p>\n",
       "</div>"
      ],
      "text/plain": [
       "         pca_col0     pca_col1     pca_col2    pca_col3     pca_col4  \\\n",
       "0     -535.341608  -188.714234   -27.402263 -245.542583  -117.236821   \n",
       "1     -364.459550   174.658510   351.457547 -144.056623  -124.735259   \n",
       "2     4601.931282  2538.931628  4854.954707 -308.596940  -180.206149   \n",
       "3     1609.037457  1476.550534  2291.396683 -211.097397   214.339625   \n",
       "4     -318.081789   132.973183   397.172652   73.585942   -48.130304   \n",
       "...           ...          ...          ...         ...          ...   \n",
       "8688  6177.764461 -1848.039711  1045.851479 -222.926866   -92.463198   \n",
       "8689  -638.376256  -249.958356   -24.085179 -272.003927  -105.952546   \n",
       "8690  -646.566241  -232.940637     6.041793  170.495177  1712.649361   \n",
       "8691  1397.579301  1789.264375 -1956.462314 -201.677446  -103.007847   \n",
       "8692  3719.998425 -2070.353432   -93.995326  -95.068890  -113.411216   \n",
       "\n",
       "        pca_col5   pca_col6  pca_col7  pca_col8  pca_col9  \n",
       "0    -653.549626   9.880905 -0.795466 -0.333336 -0.024570  \n",
       "1    -625.822240  -5.913153  0.531463 -0.167721 -0.964980  \n",
       "2    -199.073765  19.218088  0.580175 -0.077342 -0.557735  \n",
       "3    -444.473482  -0.914852  0.608189 -0.336551 -0.338938  \n",
       "4    -620.137253 -14.317681  0.542590 -0.169890 -0.926218  \n",
       "...          ...        ...       ...       ...       ...  \n",
       "8688 -162.508568   5.446957 -0.776062  0.103720  0.706790  \n",
       "8689  840.422038  -7.052930  0.881964  0.700776  0.750458  \n",
       "8690  835.555114  -0.404533  0.880952  0.697199 -0.144583  \n",
       "8691  175.840205   1.038971  0.723251 -0.335986  0.873072  \n",
       "8692  175.586512  12.944569  0.592452 -0.388558 -0.336595  \n",
       "\n",
       "[8693 rows x 10 columns]"
      ]
     },
     "execution_count": 16,
     "metadata": {},
     "output_type": "execute_result"
    }
   ],
   "source": [
    "y_target = train_df['Transported']\n",
    "x_data = encoding_train_data.drop(['Cab_1_A', 'Cab_1_G', 'Cab_1_T', 'Cab_1_D', 'Cab_1_C', 'VIP', 'HomePlanet_Mars', 'Destination_PSO J318.5-22'], axis = 1)\n",
    "\n",
    "pca = PCA(n_components = 10)\n",
    "pca.fit(encoding_train_data)\n",
    "pca_train_data = pca.transform(encoding_train_data)\n",
    "pca_train_data\n",
    "\n",
    "pca_cols = []\n",
    "for i in range(0, 10) :\n",
    "    x = 'pca_col' + str(i)\n",
    "    pca_cols.append(x)\n",
    "pca_cols\n",
    "pca_df = pd.DataFrame(pca_train_data, columns = pca_cols)\n",
    "pca_df"
   ]
  },
  {
   "cell_type": "code",
   "execution_count": 17,
   "id": "f3e8dad8",
   "metadata": {
    "execution": {
     "iopub.execute_input": "2024-01-04T08:46:17.443940Z",
     "iopub.status.busy": "2024-01-04T08:46:17.443369Z",
     "iopub.status.idle": "2024-01-04T08:46:17.452849Z",
     "shell.execute_reply": "2024-01-04T08:46:17.451948Z"
    },
    "papermill": {
     "duration": 0.037347,
     "end_time": "2024-01-04T08:46:17.455761",
     "exception": false,
     "start_time": "2024-01-04T08:46:17.418414",
     "status": "completed"
    },
    "tags": []
   },
   "outputs": [],
   "source": [
    "x_train, x_test, y_train, y_test = train_test_split(pca_df, y_target, test_size = 0.2, random_state = 0)"
   ]
  },
  {
   "cell_type": "code",
   "execution_count": 18,
   "id": "77f805bb",
   "metadata": {
    "execution": {
     "iopub.execute_input": "2024-01-04T08:46:17.485184Z",
     "iopub.status.busy": "2024-01-04T08:46:17.484673Z",
     "iopub.status.idle": "2024-01-04T08:46:19.369676Z",
     "shell.execute_reply": "2024-01-04T08:46:19.368780Z"
    },
    "papermill": {
     "duration": 1.898728,
     "end_time": "2024-01-04T08:46:19.371887",
     "exception": false,
     "start_time": "2024-01-04T08:46:17.473159",
     "status": "completed"
    },
    "tags": []
   },
   "outputs": [
    {
     "name": "stdout",
     "output_type": "stream",
     "text": [
      "훈련 세트 정확도: 0.864\n",
      "테스트 세트 정확도: 0.795\n",
      "OOB 샘플의 정확도: 0.797\n"
     ]
    }
   ],
   "source": [
    "pca_model = RandomForestClassifier(n_estimators=100, random_state=5,\n",
    "                              max_depth=10, min_samples_leaf = 4, min_samples_split = 16, oob_score=True)\n",
    "pca_model.fit(x_train, y_train)\n",
    "\n",
    "pred = pca_model.predict(x_test)\n",
    "\n",
    "# 평가\n",
    "\n",
    "print(\"훈련 세트 정확도: {:.3f}\".format(pca_model.score(x_train, y_train)) )\n",
    "print(\"테스트 세트 정확도: {:.3f}\".format(pca_model.score(x_test, y_test)) )\n",
    "print(\"OOB 샘플의 정확도: {:.3f}\".format(pca_model.oob_score_) )"
   ]
  },
  {
   "cell_type": "code",
   "execution_count": 19,
   "id": "37da9f2b",
   "metadata": {
    "execution": {
     "iopub.execute_input": "2024-01-04T08:46:19.396571Z",
     "iopub.status.busy": "2024-01-04T08:46:19.392991Z",
     "iopub.status.idle": "2024-01-04T08:46:19.418959Z",
     "shell.execute_reply": "2024-01-04T08:46:19.417647Z"
    },
    "papermill": {
     "duration": 0.043056,
     "end_time": "2024-01-04T08:46:19.424136",
     "exception": false,
     "start_time": "2024-01-04T08:46:19.381080",
     "status": "completed"
    },
    "tags": []
   },
   "outputs": [],
   "source": [
    "test_df['CryoSleep'] = test_df['CryoSleep'].fillna(0)\n",
    "test_df['VIP'] = test_df['VIP'].fillna(0)\n",
    "test_df['Cabin'] = test_df['Cabin'].fillna(test_df['Cabin'].mode()[0])\n",
    "test_df['HomePlanet'] = test_df['HomePlanet'].fillna(test_df['HomePlanet'].mode()[0])\n",
    "test_df['Destination'] = test_df['Destination'].fillna(test_df['Destination'].mode()[0])\n",
    "test_df['ShoppingMall'] = test_df['ShoppingMall'].fillna(test_df['ShoppingMall'].median())\n",
    "test_df['VRDeck'] = test_df['VRDeck'].fillna(test_df['VRDeck'].median())\n",
    "test_df['FoodCourt'] = test_df['FoodCourt'].fillna(test_df['FoodCourt'].median())\n",
    "test_df['Spa'] = test_df['Spa'].fillna(test_df['Spa'].median())\n",
    "test_df['RoomService'] = test_df['RoomService'].fillna(test_df['RoomService'].median())\n",
    "test_df['Age'] = test_df['Age'].fillna(test_df['Age'].median())"
   ]
  },
  {
   "cell_type": "code",
   "execution_count": 20,
   "id": "35c87729",
   "metadata": {
    "execution": {
     "iopub.execute_input": "2024-01-04T08:46:19.449921Z",
     "iopub.status.busy": "2024-01-04T08:46:19.448134Z",
     "iopub.status.idle": "2024-01-04T08:46:19.465651Z",
     "shell.execute_reply": "2024-01-04T08:46:19.464756Z"
    },
    "papermill": {
     "duration": 0.034179,
     "end_time": "2024-01-04T08:46:19.468700",
     "exception": false,
     "start_time": "2024-01-04T08:46:19.434521",
     "status": "completed"
    },
    "tags": []
   },
   "outputs": [],
   "source": [
    "cab = test_df[\"Cabin\"].apply(lambda x: x.split(\"/\"))\n",
    "\n",
    "test_df[\"Cab_1\"] = cab.apply(lambda x: x[0])\n",
    "test_df[\"Cab_3\"] = cab.apply(lambda x: x[2])\n",
    "test_df[\"Cab_2\"] = cab.apply(lambda x: float(x[1]))"
   ]
  },
  {
   "cell_type": "code",
   "execution_count": 21,
   "id": "25d58674",
   "metadata": {
    "execution": {
     "iopub.execute_input": "2024-01-04T08:46:19.488538Z",
     "iopub.status.busy": "2024-01-04T08:46:19.487827Z",
     "iopub.status.idle": "2024-01-04T08:46:19.494810Z",
     "shell.execute_reply": "2024-01-04T08:46:19.493962Z"
    },
    "papermill": {
     "duration": 0.020639,
     "end_time": "2024-01-04T08:46:19.497770",
     "exception": false,
     "start_time": "2024-01-04T08:46:19.477131",
     "status": "completed"
    },
    "tags": []
   },
   "outputs": [],
   "source": [
    "test_df = test_df.drop(['Cabin'],axis=1)"
   ]
  },
  {
   "cell_type": "code",
   "execution_count": 22,
   "id": "b61eda13",
   "metadata": {
    "execution": {
     "iopub.execute_input": "2024-01-04T08:46:19.516252Z",
     "iopub.status.busy": "2024-01-04T08:46:19.515356Z",
     "iopub.status.idle": "2024-01-04T08:46:19.530203Z",
     "shell.execute_reply": "2024-01-04T08:46:19.529275Z"
    },
    "papermill": {
     "duration": 0.026968,
     "end_time": "2024-01-04T08:46:19.532928",
     "exception": false,
     "start_time": "2024-01-04T08:46:19.505960",
     "status": "completed"
    },
    "tags": []
   },
   "outputs": [],
   "source": [
    "test_df[\"VIP\"] = test_df[\"VIP\"].astype(int)\n",
    "test_df[\"CryoSleep\"] = test_df[\"CryoSleep\"].astype(int)"
   ]
  },
  {
   "cell_type": "code",
   "execution_count": 23,
   "id": "dbeca380",
   "metadata": {
    "execution": {
     "iopub.execute_input": "2024-01-04T08:46:19.556105Z",
     "iopub.status.busy": "2024-01-04T08:46:19.555426Z",
     "iopub.status.idle": "2024-01-04T08:46:19.707249Z",
     "shell.execute_reply": "2024-01-04T08:46:19.705797Z"
    },
    "papermill": {
     "duration": 0.167344,
     "end_time": "2024-01-04T08:46:19.710736",
     "exception": false,
     "start_time": "2024-01-04T08:46:19.543392",
     "status": "completed"
    },
    "tags": []
   },
   "outputs": [],
   "source": [
    "encoding_test_data = pd.get_dummies(test_df)\n",
    "test_x_data = encoding_test_data.drop(['Cab_1_A', 'Cab_1_G', 'Cab_1_T', 'Cab_1_D', 'Cab_1_C', 'VIP', 'HomePlanet_Mars', 'Destination_PSO J318.5-22'], axis = 1)"
   ]
  },
  {
   "cell_type": "code",
   "execution_count": 24,
   "id": "3cf4fc8e",
   "metadata": {
    "execution": {
     "iopub.execute_input": "2024-01-04T08:46:19.737612Z",
     "iopub.status.busy": "2024-01-04T08:46:19.736981Z",
     "iopub.status.idle": "2024-01-04T08:46:22.660439Z",
     "shell.execute_reply": "2024-01-04T08:46:22.659583Z"
    },
    "papermill": {
     "duration": 2.940092,
     "end_time": "2024-01-04T08:46:22.662694",
     "exception": false,
     "start_time": "2024-01-04T08:46:19.722602",
     "status": "completed"
    },
    "tags": []
   },
   "outputs": [
    {
     "data": {
      "text/html": [
       "<div>\n",
       "<style scoped>\n",
       "    .dataframe tbody tr th:only-of-type {\n",
       "        vertical-align: middle;\n",
       "    }\n",
       "\n",
       "    .dataframe tbody tr th {\n",
       "        vertical-align: top;\n",
       "    }\n",
       "\n",
       "    .dataframe thead th {\n",
       "        text-align: right;\n",
       "    }\n",
       "</style>\n",
       "<table border=\"1\" class=\"dataframe\">\n",
       "  <thead>\n",
       "    <tr style=\"text-align: right;\">\n",
       "      <th></th>\n",
       "      <th>PassengerId</th>\n",
       "      <th>Transported</th>\n",
       "    </tr>\n",
       "  </thead>\n",
       "  <tbody>\n",
       "    <tr>\n",
       "      <th>0</th>\n",
       "      <td>0013_01</td>\n",
       "      <td>False</td>\n",
       "    </tr>\n",
       "    <tr>\n",
       "      <th>1</th>\n",
       "      <td>0018_01</td>\n",
       "      <td>False</td>\n",
       "    </tr>\n",
       "    <tr>\n",
       "      <th>2</th>\n",
       "      <td>0019_01</td>\n",
       "      <td>False</td>\n",
       "    </tr>\n",
       "    <tr>\n",
       "      <th>3</th>\n",
       "      <td>0021_01</td>\n",
       "      <td>True</td>\n",
       "    </tr>\n",
       "    <tr>\n",
       "      <th>4</th>\n",
       "      <td>0023_01</td>\n",
       "      <td>False</td>\n",
       "    </tr>\n",
       "  </tbody>\n",
       "</table>\n",
       "</div>"
      ],
      "text/plain": [
       "  PassengerId  Transported\n",
       "0     0013_01        False\n",
       "1     0018_01        False\n",
       "2     0019_01        False\n",
       "3     0021_01         True\n",
       "4     0023_01        False"
      ]
     },
     "execution_count": 24,
     "metadata": {},
     "output_type": "execute_result"
    }
   ],
   "source": [
    "pca = PCA(n_components = 10)\n",
    "pca.fit(encoding_test_data)\n",
    "pca_test_data = pca.transform(encoding_test_data)\n",
    "\n",
    "pca_cols = []\n",
    "for i in range(0, 10) :\n",
    "    x = 'pca_col' + str(i)\n",
    "    pca_cols.append(x)\n",
    "pca_df = pd.DataFrame(pca_test_data, columns = pca_cols)\n",
    "\n",
    "pca_rf_pred = pca_model.predict(pca_df)\n",
    "\n",
    "sample_submission = pd.read_csv('/kaggle/input/spaceship-titanic/sample_submission.csv')\n",
    "sample_submission['Transported'] = pca_rf_pred\n",
    "sample_submission.to_csv('submission.csv',index = False)\n",
    "sample_submission.head()"
   ]
  }
 ],
 "metadata": {
  "kaggle": {
   "accelerator": "none",
   "dataSources": [
    {
     "databundleVersionId": 3220602,
     "sourceId": 34377,
     "sourceType": "competition"
    }
   ],
   "dockerImageVersionId": 30626,
   "isGpuEnabled": false,
   "isInternetEnabled": true,
   "language": "python",
   "sourceType": "notebook"
  },
  "kernelspec": {
   "display_name": "Python 3",
   "language": "python",
   "name": "python3"
  },
  "language_info": {
   "codemirror_mode": {
    "name": "ipython",
    "version": 3
   },
   "file_extension": ".py",
   "mimetype": "text/x-python",
   "name": "python",
   "nbconvert_exporter": "python",
   "pygments_lexer": "ipython3",
   "version": "3.10.12"
  },
  "papermill": {
   "default_parameters": {},
   "duration": 12.734203,
   "end_time": "2024-01-04T08:46:23.597242",
   "environment_variables": {},
   "exception": null,
   "input_path": "__notebook__.ipynb",
   "output_path": "__notebook__.ipynb",
   "parameters": {},
   "start_time": "2024-01-04T08:46:10.863039",
   "version": "2.4.0"
  }
 },
 "nbformat": 4,
 "nbformat_minor": 5
}
