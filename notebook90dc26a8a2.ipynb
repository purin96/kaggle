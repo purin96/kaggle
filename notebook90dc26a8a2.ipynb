{
 "cells": [
  {
   "cell_type": "code",
   "execution_count": 1,
   "id": "e6973995",
   "metadata": {
    "_cell_guid": "b1076dfc-b9ad-4769-8c92-a6c4dae69d19",
    "_uuid": "8f2839f25d086af736a60e9eeb907d3b93b6e0e5",
    "execution": {
     "iopub.execute_input": "2023-12-29T08:01:15.490688Z",
     "iopub.status.busy": "2023-12-29T08:01:15.490085Z",
     "iopub.status.idle": "2023-12-29T08:01:15.930167Z",
     "shell.execute_reply": "2023-12-29T08:01:15.929106Z"
    },
    "papermill": {
     "duration": 0.453636,
     "end_time": "2023-12-29T08:01:15.932805",
     "exception": false,
     "start_time": "2023-12-29T08:01:15.479169",
     "status": "completed"
    },
    "tags": []
   },
   "outputs": [
    {
     "name": "stdout",
     "output_type": "stream",
     "text": [
      "/kaggle/input/titanic/train.csv\n",
      "/kaggle/input/titanic/test.csv\n",
      "/kaggle/input/titanic/gender_submission.csv\n"
     ]
    }
   ],
   "source": [
    "# This Python 3 environment comes with many helpful analytics libraries installed\n",
    "# It is defined by the kaggle/python Docker image: https://github.com/kaggle/docker-python\n",
    "# For example, here's several helpful packages to load\n",
    "\n",
    "import numpy as np # linear algebra\n",
    "import pandas as pd \n",
    "from pandas import Series,DataFrame# data processing, CSV file I/O (e.g. pd.read_csv)\n",
    "\n",
    "# Input data files are available in the read-only \"../input/\" directory\n",
    "# For example, running this (by clicking run or pressing Shift+Enter) will list all files under the input directory\n",
    "\n",
    "import os\n",
    "for dirname, _, filenames in os.walk('/kaggle/input'):\n",
    "    for filename in filenames:\n",
    "        print(os.path.join(dirname, filename))\n",
    "\n",
    "# You can write up to 20GB to the current directory (/kaggle/working/) that gets preserved as output when you create a version using \"Save & Run All\" \n",
    "# You can also write temporary files to /kaggle/temp/, but they won't be saved outside of the current session"
   ]
  },
  {
   "cell_type": "code",
   "execution_count": 2,
   "id": "398c4b27",
   "metadata": {
    "execution": {
     "iopub.execute_input": "2023-12-29T08:01:15.952549Z",
     "iopub.status.busy": "2023-12-29T08:01:15.951987Z",
     "iopub.status.idle": "2023-12-29T08:01:18.142132Z",
     "shell.execute_reply": "2023-12-29T08:01:18.140971Z"
    },
    "papermill": {
     "duration": 2.203261,
     "end_time": "2023-12-29T08:01:18.145084",
     "exception": false,
     "start_time": "2023-12-29T08:01:15.941823",
     "status": "completed"
    },
    "tags": []
   },
   "outputs": [],
   "source": [
    "import matplotlib.pyplot as plt\n",
    "import seaborn as sns\n",
    "%matplotlib inline\n",
    "\n",
    "from sklearn.linear_model import LogisticRegression\n",
    "from sklearn.svm import SVC, LinearSVC\n",
    "from sklearn.ensemble import RandomForestClassifier\n",
    "from sklearn.neighbors import KNeighborsClassifier"
   ]
  },
  {
   "cell_type": "code",
   "execution_count": 3,
   "id": "ceb9dd2b",
   "metadata": {
    "execution": {
     "iopub.execute_input": "2023-12-29T08:01:18.164508Z",
     "iopub.status.busy": "2023-12-29T08:01:18.164049Z",
     "iopub.status.idle": "2023-12-29T08:01:18.226903Z",
     "shell.execute_reply": "2023-12-29T08:01:18.225790Z"
    },
    "papermill": {
     "duration": 0.075948,
     "end_time": "2023-12-29T08:01:18.229772",
     "exception": false,
     "start_time": "2023-12-29T08:01:18.153824",
     "status": "completed"
    },
    "tags": []
   },
   "outputs": [
    {
     "data": {
      "text/html": [
       "<div>\n",
       "<style scoped>\n",
       "    .dataframe tbody tr th:only-of-type {\n",
       "        vertical-align: middle;\n",
       "    }\n",
       "\n",
       "    .dataframe tbody tr th {\n",
       "        vertical-align: top;\n",
       "    }\n",
       "\n",
       "    .dataframe thead th {\n",
       "        text-align: right;\n",
       "    }\n",
       "</style>\n",
       "<table border=\"1\" class=\"dataframe\">\n",
       "  <thead>\n",
       "    <tr style=\"text-align: right;\">\n",
       "      <th></th>\n",
       "      <th>PassengerId</th>\n",
       "      <th>Survived</th>\n",
       "      <th>Pclass</th>\n",
       "      <th>Name</th>\n",
       "      <th>Sex</th>\n",
       "      <th>Age</th>\n",
       "      <th>SibSp</th>\n",
       "      <th>Parch</th>\n",
       "      <th>Ticket</th>\n",
       "      <th>Fare</th>\n",
       "      <th>Cabin</th>\n",
       "      <th>Embarked</th>\n",
       "    </tr>\n",
       "  </thead>\n",
       "  <tbody>\n",
       "    <tr>\n",
       "      <th>0</th>\n",
       "      <td>1</td>\n",
       "      <td>0</td>\n",
       "      <td>3</td>\n",
       "      <td>Braund, Mr. Owen Harris</td>\n",
       "      <td>male</td>\n",
       "      <td>22.0</td>\n",
       "      <td>1</td>\n",
       "      <td>0</td>\n",
       "      <td>A/5 21171</td>\n",
       "      <td>7.2500</td>\n",
       "      <td>NaN</td>\n",
       "      <td>S</td>\n",
       "    </tr>\n",
       "    <tr>\n",
       "      <th>1</th>\n",
       "      <td>2</td>\n",
       "      <td>1</td>\n",
       "      <td>1</td>\n",
       "      <td>Cumings, Mrs. John Bradley (Florence Briggs Th...</td>\n",
       "      <td>female</td>\n",
       "      <td>38.0</td>\n",
       "      <td>1</td>\n",
       "      <td>0</td>\n",
       "      <td>PC 17599</td>\n",
       "      <td>71.2833</td>\n",
       "      <td>C85</td>\n",
       "      <td>C</td>\n",
       "    </tr>\n",
       "    <tr>\n",
       "      <th>2</th>\n",
       "      <td>3</td>\n",
       "      <td>1</td>\n",
       "      <td>3</td>\n",
       "      <td>Heikkinen, Miss. Laina</td>\n",
       "      <td>female</td>\n",
       "      <td>26.0</td>\n",
       "      <td>0</td>\n",
       "      <td>0</td>\n",
       "      <td>STON/O2. 3101282</td>\n",
       "      <td>7.9250</td>\n",
       "      <td>NaN</td>\n",
       "      <td>S</td>\n",
       "    </tr>\n",
       "    <tr>\n",
       "      <th>3</th>\n",
       "      <td>4</td>\n",
       "      <td>1</td>\n",
       "      <td>1</td>\n",
       "      <td>Futrelle, Mrs. Jacques Heath (Lily May Peel)</td>\n",
       "      <td>female</td>\n",
       "      <td>35.0</td>\n",
       "      <td>1</td>\n",
       "      <td>0</td>\n",
       "      <td>113803</td>\n",
       "      <td>53.1000</td>\n",
       "      <td>C123</td>\n",
       "      <td>S</td>\n",
       "    </tr>\n",
       "    <tr>\n",
       "      <th>4</th>\n",
       "      <td>5</td>\n",
       "      <td>0</td>\n",
       "      <td>3</td>\n",
       "      <td>Allen, Mr. William Henry</td>\n",
       "      <td>male</td>\n",
       "      <td>35.0</td>\n",
       "      <td>0</td>\n",
       "      <td>0</td>\n",
       "      <td>373450</td>\n",
       "      <td>8.0500</td>\n",
       "      <td>NaN</td>\n",
       "      <td>S</td>\n",
       "    </tr>\n",
       "  </tbody>\n",
       "</table>\n",
       "</div>"
      ],
      "text/plain": [
       "   PassengerId  Survived  Pclass  \\\n",
       "0            1         0       3   \n",
       "1            2         1       1   \n",
       "2            3         1       3   \n",
       "3            4         1       1   \n",
       "4            5         0       3   \n",
       "\n",
       "                                                Name     Sex   Age  SibSp  \\\n",
       "0                            Braund, Mr. Owen Harris    male  22.0      1   \n",
       "1  Cumings, Mrs. John Bradley (Florence Briggs Th...  female  38.0      1   \n",
       "2                             Heikkinen, Miss. Laina  female  26.0      0   \n",
       "3       Futrelle, Mrs. Jacques Heath (Lily May Peel)  female  35.0      1   \n",
       "4                           Allen, Mr. William Henry    male  35.0      0   \n",
       "\n",
       "   Parch            Ticket     Fare Cabin Embarked  \n",
       "0      0         A/5 21171   7.2500   NaN        S  \n",
       "1      0          PC 17599  71.2833   C85        C  \n",
       "2      0  STON/O2. 3101282   7.9250   NaN        S  \n",
       "3      0            113803  53.1000  C123        S  \n",
       "4      0            373450   8.0500   NaN        S  "
      ]
     },
     "execution_count": 3,
     "metadata": {},
     "output_type": "execute_result"
    }
   ],
   "source": [
    "train_df = pd.read_csv(\"/kaggle/input/titanic/train.csv\")\n",
    "test_df = pd.read_csv(\"/kaggle/input/titanic/test.csv\")\n",
    "\n",
    "train_df.head()"
   ]
  },
  {
   "cell_type": "code",
   "execution_count": 4,
   "id": "8987e9cf",
   "metadata": {
    "execution": {
     "iopub.execute_input": "2023-12-29T08:01:18.250866Z",
     "iopub.status.busy": "2023-12-29T08:01:18.249617Z",
     "iopub.status.idle": "2023-12-29T08:01:18.286083Z",
     "shell.execute_reply": "2023-12-29T08:01:18.285087Z"
    },
    "papermill": {
     "duration": 0.049596,
     "end_time": "2023-12-29T08:01:18.288526",
     "exception": false,
     "start_time": "2023-12-29T08:01:18.238930",
     "status": "completed"
    },
    "tags": []
   },
   "outputs": [
    {
     "name": "stdout",
     "output_type": "stream",
     "text": [
      "<class 'pandas.core.frame.DataFrame'>\n",
      "RangeIndex: 891 entries, 0 to 890\n",
      "Data columns (total 12 columns):\n",
      " #   Column       Non-Null Count  Dtype  \n",
      "---  ------       --------------  -----  \n",
      " 0   PassengerId  891 non-null    int64  \n",
      " 1   Survived     891 non-null    int64  \n",
      " 2   Pclass       891 non-null    int64  \n",
      " 3   Name         891 non-null    object \n",
      " 4   Sex          891 non-null    object \n",
      " 5   Age          714 non-null    float64\n",
      " 6   SibSp        891 non-null    int64  \n",
      " 7   Parch        891 non-null    int64  \n",
      " 8   Ticket       891 non-null    object \n",
      " 9   Fare         891 non-null    float64\n",
      " 10  Cabin        204 non-null    object \n",
      " 11  Embarked     889 non-null    object \n",
      "dtypes: float64(2), int64(5), object(5)\n",
      "memory usage: 83.7+ KB\n"
     ]
    }
   ],
   "source": [
    "train_df.info()"
   ]
  },
  {
   "cell_type": "code",
   "execution_count": 5,
   "id": "5cfeba5a",
   "metadata": {
    "execution": {
     "iopub.execute_input": "2023-12-29T08:01:18.309141Z",
     "iopub.status.busy": "2023-12-29T08:01:18.308698Z",
     "iopub.status.idle": "2023-12-29T08:01:18.322885Z",
     "shell.execute_reply": "2023-12-29T08:01:18.321708Z"
    },
    "papermill": {
     "duration": 0.027789,
     "end_time": "2023-12-29T08:01:18.325433",
     "exception": false,
     "start_time": "2023-12-29T08:01:18.297644",
     "status": "completed"
    },
    "tags": []
   },
   "outputs": [
    {
     "name": "stdout",
     "output_type": "stream",
     "text": [
      "<class 'pandas.core.frame.DataFrame'>\n",
      "RangeIndex: 418 entries, 0 to 417\n",
      "Data columns (total 11 columns):\n",
      " #   Column       Non-Null Count  Dtype  \n",
      "---  ------       --------------  -----  \n",
      " 0   PassengerId  418 non-null    int64  \n",
      " 1   Pclass       418 non-null    int64  \n",
      " 2   Name         418 non-null    object \n",
      " 3   Sex          418 non-null    object \n",
      " 4   Age          332 non-null    float64\n",
      " 5   SibSp        418 non-null    int64  \n",
      " 6   Parch        418 non-null    int64  \n",
      " 7   Ticket       418 non-null    object \n",
      " 8   Fare         417 non-null    float64\n",
      " 9   Cabin        91 non-null     object \n",
      " 10  Embarked     418 non-null    object \n",
      "dtypes: float64(2), int64(4), object(5)\n",
      "memory usage: 36.0+ KB\n"
     ]
    }
   ],
   "source": [
    "test_df.info()"
   ]
  },
  {
   "cell_type": "code",
   "execution_count": 6,
   "id": "c2e0a254",
   "metadata": {
    "execution": {
     "iopub.execute_input": "2023-12-29T08:01:18.346149Z",
     "iopub.status.busy": "2023-12-29T08:01:18.345732Z",
     "iopub.status.idle": "2023-12-29T08:01:18.357113Z",
     "shell.execute_reply": "2023-12-29T08:01:18.356206Z"
    },
    "papermill": {
     "duration": 0.024252,
     "end_time": "2023-12-29T08:01:18.359089",
     "exception": false,
     "start_time": "2023-12-29T08:01:18.334837",
     "status": "completed"
    },
    "tags": []
   },
   "outputs": [],
   "source": [
    "train_df = train_df.drop(['PassengerId','Name','Ticket'],axis=1)\n",
    "test_df = test_df.drop(['Name','Ticket'],axis=1)"
   ]
  },
  {
   "cell_type": "code",
   "execution_count": 7,
   "id": "1527d785",
   "metadata": {
    "execution": {
     "iopub.execute_input": "2023-12-29T08:01:18.380089Z",
     "iopub.status.busy": "2023-12-29T08:01:18.378898Z",
     "iopub.status.idle": "2023-12-29T08:01:18.387361Z",
     "shell.execute_reply": "2023-12-29T08:01:18.386450Z"
    },
    "papermill": {
     "duration": 0.021139,
     "end_time": "2023-12-29T08:01:18.389550",
     "exception": false,
     "start_time": "2023-12-29T08:01:18.368411",
     "status": "completed"
    },
    "tags": []
   },
   "outputs": [
    {
     "data": {
      "text/plain": [
       "Pclass\n",
       "3    491\n",
       "1    216\n",
       "2    184\n",
       "Name: count, dtype: int64"
      ]
     },
     "execution_count": 7,
     "metadata": {},
     "output_type": "execute_result"
    }
   ],
   "source": [
    "train_df['Pclass'].value_counts()"
   ]
  },
  {
   "cell_type": "code",
   "execution_count": 8,
   "id": "edcc83e6",
   "metadata": {
    "execution": {
     "iopub.execute_input": "2023-12-29T08:01:18.411474Z",
     "iopub.status.busy": "2023-12-29T08:01:18.410770Z",
     "iopub.status.idle": "2023-12-29T08:01:18.421928Z",
     "shell.execute_reply": "2023-12-29T08:01:18.420291Z"
    },
    "papermill": {
     "duration": 0.025396,
     "end_time": "2023-12-29T08:01:18.424729",
     "exception": false,
     "start_time": "2023-12-29T08:01:18.399333",
     "status": "completed"
    },
    "tags": []
   },
   "outputs": [],
   "source": [
    "pclass_train_dummies = pd.get_dummies(train_df['Pclass'])\n",
    "pclass_test_dummies = pd.get_dummies(test_df['Pclass'])\n",
    "pclass_train_dummies.columns = ['AA', 'BB', 'CC']\n",
    "pclass_test_dummies.columns = ['AA', 'BB', 'CC']"
   ]
  },
  {
   "cell_type": "code",
   "execution_count": 9,
   "id": "95ec815f",
   "metadata": {
    "execution": {
     "iopub.execute_input": "2023-12-29T08:01:18.445884Z",
     "iopub.status.busy": "2023-12-29T08:01:18.445447Z",
     "iopub.status.idle": "2023-12-29T08:01:18.452831Z",
     "shell.execute_reply": "2023-12-29T08:01:18.451617Z"
    },
    "papermill": {
     "duration": 0.020801,
     "end_time": "2023-12-29T08:01:18.455237",
     "exception": false,
     "start_time": "2023-12-29T08:01:18.434436",
     "status": "completed"
    },
    "tags": []
   },
   "outputs": [],
   "source": [
    "train_df.drop(['Pclass'],axis=1,inplace = True)\n",
    "test_df.drop(['Pclass'],axis=1,inplace = True)"
   ]
  },
  {
   "cell_type": "code",
   "execution_count": 10,
   "id": "55a32898",
   "metadata": {
    "execution": {
     "iopub.execute_input": "2023-12-29T08:01:18.476477Z",
     "iopub.status.busy": "2023-12-29T08:01:18.476029Z",
     "iopub.status.idle": "2023-12-29T08:01:18.486025Z",
     "shell.execute_reply": "2023-12-29T08:01:18.484896Z"
    },
    "papermill": {
     "duration": 0.023449,
     "end_time": "2023-12-29T08:01:18.488340",
     "exception": false,
     "start_time": "2023-12-29T08:01:18.464891",
     "status": "completed"
    },
    "tags": []
   },
   "outputs": [],
   "source": [
    "train_df = train_df.join(pclass_train_dummies)\n",
    "test_df = test_df.join(pclass_test_dummies)"
   ]
  },
  {
   "cell_type": "code",
   "execution_count": 11,
   "id": "d571c285",
   "metadata": {
    "execution": {
     "iopub.execute_input": "2023-12-29T08:01:18.509798Z",
     "iopub.status.busy": "2023-12-29T08:01:18.508537Z",
     "iopub.status.idle": "2023-12-29T08:01:18.521083Z",
     "shell.execute_reply": "2023-12-29T08:01:18.520073Z"
    },
    "papermill": {
     "duration": 0.025948,
     "end_time": "2023-12-29T08:01:18.523673",
     "exception": false,
     "start_time": "2023-12-29T08:01:18.497725",
     "status": "completed"
    },
    "tags": []
   },
   "outputs": [],
   "source": [
    "sex_train_dummies = pd.get_dummies(train_df['Sex'])\n",
    "sex_test_dummies = pd.get_dummies(test_df['Sex'])\n",
    "\n",
    "sex_train_dummies.columns = ['Female', 'Male']\n",
    "sex_test_dummies.columns = ['Female', 'Male']\n",
    "\n",
    "train_df.drop(['Sex'], axis=1, inplace=True)\n",
    "test_df.drop(['Sex'], axis=1, inplace=True)\n",
    "\n",
    "train_df = train_df.join(sex_train_dummies)\n",
    "test_df = test_df.join(sex_test_dummies)"
   ]
  },
  {
   "cell_type": "code",
   "execution_count": 12,
   "id": "4b6521ed",
   "metadata": {
    "execution": {
     "iopub.execute_input": "2023-12-29T08:01:18.545344Z",
     "iopub.status.busy": "2023-12-29T08:01:18.544157Z",
     "iopub.status.idle": "2023-12-29T08:01:18.554174Z",
     "shell.execute_reply": "2023-12-29T08:01:18.553057Z"
    },
    "papermill": {
     "duration": 0.023523,
     "end_time": "2023-12-29T08:01:18.556916",
     "exception": false,
     "start_time": "2023-12-29T08:01:18.533393",
     "status": "completed"
    },
    "tags": []
   },
   "outputs": [],
   "source": [
    "train_df[\"Age\"].fillna(train_df[\"Age\"].median() , inplace=True)\n",
    "test_df[\"Age\"].fillna(train_df[\"Age\"].median() , inplace=True)"
   ]
  },
  {
   "cell_type": "code",
   "execution_count": 13,
   "id": "e4a52354",
   "metadata": {
    "execution": {
     "iopub.execute_input": "2023-12-29T08:01:18.578356Z",
     "iopub.status.busy": "2023-12-29T08:01:18.577920Z",
     "iopub.status.idle": "2023-12-29T08:01:18.583975Z",
     "shell.execute_reply": "2023-12-29T08:01:18.582593Z"
    },
    "papermill": {
     "duration": 0.019447,
     "end_time": "2023-12-29T08:01:18.586304",
     "exception": false,
     "start_time": "2023-12-29T08:01:18.566857",
     "status": "completed"
    },
    "tags": []
   },
   "outputs": [],
   "source": [
    "test_df[\"Fare\"].fillna(0, inplace=True)"
   ]
  },
  {
   "cell_type": "code",
   "execution_count": 14,
   "id": "fb7fac7d",
   "metadata": {
    "execution": {
     "iopub.execute_input": "2023-12-29T08:01:18.608355Z",
     "iopub.status.busy": "2023-12-29T08:01:18.607146Z",
     "iopub.status.idle": "2023-12-29T08:01:18.615011Z",
     "shell.execute_reply": "2023-12-29T08:01:18.614044Z"
    },
    "papermill": {
     "duration": 0.021188,
     "end_time": "2023-12-29T08:01:18.617526",
     "exception": false,
     "start_time": "2023-12-29T08:01:18.596338",
     "status": "completed"
    },
    "tags": []
   },
   "outputs": [],
   "source": [
    "train_df = train_df.drop(['Cabin'], axis=1)\n",
    "test_df = test_df.drop(['Cabin'], axis=1)"
   ]
  },
  {
   "cell_type": "code",
   "execution_count": 15,
   "id": "6ab1a941",
   "metadata": {
    "execution": {
     "iopub.execute_input": "2023-12-29T08:01:18.638375Z",
     "iopub.status.busy": "2023-12-29T08:01:18.637574Z",
     "iopub.status.idle": "2023-12-29T08:01:18.646482Z",
     "shell.execute_reply": "2023-12-29T08:01:18.645348Z"
    },
    "papermill": {
     "duration": 0.02189,
     "end_time": "2023-12-29T08:01:18.648831",
     "exception": false,
     "start_time": "2023-12-29T08:01:18.626941",
     "status": "completed"
    },
    "tags": []
   },
   "outputs": [
    {
     "data": {
      "text/plain": [
       "Embarked\n",
       "S    644\n",
       "C    168\n",
       "Q     77\n",
       "Name: count, dtype: int64"
      ]
     },
     "execution_count": 15,
     "metadata": {},
     "output_type": "execute_result"
    }
   ],
   "source": [
    "train_df['Embarked'].value_counts()"
   ]
  },
  {
   "cell_type": "code",
   "execution_count": 16,
   "id": "41b3f0c3",
   "metadata": {
    "execution": {
     "iopub.execute_input": "2023-12-29T08:01:18.670103Z",
     "iopub.status.busy": "2023-12-29T08:01:18.669666Z",
     "iopub.status.idle": "2023-12-29T08:01:18.678235Z",
     "shell.execute_reply": "2023-12-29T08:01:18.677429Z"
    },
    "papermill": {
     "duration": 0.021618,
     "end_time": "2023-12-29T08:01:18.680313",
     "exception": false,
     "start_time": "2023-12-29T08:01:18.658695",
     "status": "completed"
    },
    "tags": []
   },
   "outputs": [
    {
     "data": {
      "text/plain": [
       "Embarked\n",
       "S    270\n",
       "C    102\n",
       "Q     46\n",
       "Name: count, dtype: int64"
      ]
     },
     "execution_count": 16,
     "metadata": {},
     "output_type": "execute_result"
    }
   ],
   "source": [
    "test_df['Embarked'].value_counts()"
   ]
  },
  {
   "cell_type": "code",
   "execution_count": 17,
   "id": "c30481df",
   "metadata": {
    "execution": {
     "iopub.execute_input": "2023-12-29T08:01:18.701848Z",
     "iopub.status.busy": "2023-12-29T08:01:18.701145Z",
     "iopub.status.idle": "2023-12-29T08:01:18.708049Z",
     "shell.execute_reply": "2023-12-29T08:01:18.706973Z"
    },
    "papermill": {
     "duration": 0.020627,
     "end_time": "2023-12-29T08:01:18.710599",
     "exception": false,
     "start_time": "2023-12-29T08:01:18.689972",
     "status": "completed"
    },
    "tags": []
   },
   "outputs": [],
   "source": [
    "train_df[\"Embarked\"].fillna('S', inplace=True)\n",
    "test_df[\"Embarked\"].fillna('S', inplace=True)"
   ]
  },
  {
   "cell_type": "code",
   "execution_count": 18,
   "id": "6a181b10",
   "metadata": {
    "execution": {
     "iopub.execute_input": "2023-12-29T08:01:18.732122Z",
     "iopub.status.busy": "2023-12-29T08:01:18.731716Z",
     "iopub.status.idle": "2023-12-29T08:01:18.744579Z",
     "shell.execute_reply": "2023-12-29T08:01:18.743319Z"
    },
    "papermill": {
     "duration": 0.026902,
     "end_time": "2023-12-29T08:01:18.747303",
     "exception": false,
     "start_time": "2023-12-29T08:01:18.720401",
     "status": "completed"
    },
    "tags": []
   },
   "outputs": [],
   "source": [
    "embarked_train_dummies = pd.get_dummies(train_df['Embarked'])\n",
    "embarked_test_dummies = pd.get_dummies(test_df['Embarked'])\n",
    "\n",
    "embarked_train_dummies.columns = ['S', 'C', 'Q']\n",
    "embarked_test_dummies.columns = ['S', 'C', 'Q']\n",
    "\n",
    "train_df.drop(['Embarked'], axis=1, inplace=True)\n",
    "test_df.drop(['Embarked'], axis=1, inplace=True)\n",
    "\n",
    "train_df = train_df.join(embarked_train_dummies)\n",
    "test_df = test_df.join(embarked_test_dummies)"
   ]
  },
  {
   "cell_type": "code",
   "execution_count": 19,
   "id": "f3ab1551",
   "metadata": {
    "execution": {
     "iopub.execute_input": "2023-12-29T08:01:18.769119Z",
     "iopub.status.busy": "2023-12-29T08:01:18.768728Z",
     "iopub.status.idle": "2023-12-29T08:01:18.776842Z",
     "shell.execute_reply": "2023-12-29T08:01:18.775588Z"
    },
    "papermill": {
     "duration": 0.022075,
     "end_time": "2023-12-29T08:01:18.779213",
     "exception": false,
     "start_time": "2023-12-29T08:01:18.757138",
     "status": "completed"
    },
    "tags": []
   },
   "outputs": [],
   "source": [
    "X_train = train_df.drop(\"Survived\",axis=1)\n",
    "Y_train = train_df[\"Survived\"]\n",
    "X_test  = test_df.drop(\"PassengerId\",axis=1).copy()"
   ]
  },
  {
   "cell_type": "code",
   "execution_count": null,
   "id": "58548dd4",
   "metadata": {
    "papermill": {
     "duration": 0.00941,
     "end_time": "2023-12-29T08:01:18.798564",
     "exception": false,
     "start_time": "2023-12-29T08:01:18.789154",
     "status": "completed"
    },
    "tags": []
   },
   "outputs": [],
   "source": []
  },
  {
   "cell_type": "code",
   "execution_count": 20,
   "id": "1cec62aa",
   "metadata": {
    "execution": {
     "iopub.execute_input": "2023-12-29T08:01:18.819857Z",
     "iopub.status.busy": "2023-12-29T08:01:18.819432Z",
     "iopub.status.idle": "2023-12-29T08:01:18.905320Z",
     "shell.execute_reply": "2023-12-29T08:01:18.903809Z"
    },
    "papermill": {
     "duration": 0.102942,
     "end_time": "2023-12-29T08:01:18.911232",
     "exception": false,
     "start_time": "2023-12-29T08:01:18.808290",
     "status": "completed"
    },
    "tags": []
   },
   "outputs": [
    {
     "name": "stderr",
     "output_type": "stream",
     "text": [
      "/opt/conda/lib/python3.10/site-packages/sklearn/linear_model/_logistic.py:458: ConvergenceWarning: lbfgs failed to converge (status=1):\n",
      "STOP: TOTAL NO. of ITERATIONS REACHED LIMIT.\n",
      "\n",
      "Increase the number of iterations (max_iter) or scale the data as shown in:\n",
      "    https://scikit-learn.org/stable/modules/preprocessing.html\n",
      "Please also refer to the documentation for alternative solver options:\n",
      "    https://scikit-learn.org/stable/modules/linear_model.html#logistic-regression\n",
      "  n_iter_i = _check_optimize_result(\n"
     ]
    },
    {
     "data": {
      "text/plain": [
       "0.8058361391694725"
      ]
     },
     "execution_count": 20,
     "metadata": {},
     "output_type": "execute_result"
    }
   ],
   "source": [
    "logreg = LogisticRegression()\n",
    "logreg.fit(X_train, Y_train)\n",
    "\n",
    "Y_pred = logreg.predict(X_test)\n",
    "\n",
    "logreg.score(X_train, Y_train)"
   ]
  },
  {
   "cell_type": "code",
   "execution_count": 21,
   "id": "746d70ad",
   "metadata": {
    "execution": {
     "iopub.execute_input": "2023-12-29T08:01:18.955659Z",
     "iopub.status.busy": "2023-12-29T08:01:18.954947Z",
     "iopub.status.idle": "2023-12-29T08:01:19.086849Z",
     "shell.execute_reply": "2023-12-29T08:01:19.085557Z"
    },
    "papermill": {
     "duration": 0.156876,
     "end_time": "2023-12-29T08:01:19.089203",
     "exception": false,
     "start_time": "2023-12-29T08:01:18.932327",
     "status": "completed"
    },
    "tags": []
   },
   "outputs": [
    {
     "data": {
      "text/plain": [
       "0.6868686868686869"
      ]
     },
     "execution_count": 21,
     "metadata": {},
     "output_type": "execute_result"
    }
   ],
   "source": [
    "\n",
    "svc = SVC()\n",
    "\n",
    "svc.fit(X_train, Y_train)\n",
    "\n",
    "Y_pred = svc.predict(X_test)\n",
    "\n",
    "svc.score(X_train, Y_train)"
   ]
  },
  {
   "cell_type": "code",
   "execution_count": 22,
   "id": "e879f746",
   "metadata": {
    "execution": {
     "iopub.execute_input": "2023-12-29T08:01:19.111452Z",
     "iopub.status.busy": "2023-12-29T08:01:19.111003Z",
     "iopub.status.idle": "2023-12-29T08:01:19.443890Z",
     "shell.execute_reply": "2023-12-29T08:01:19.443063Z"
    },
    "papermill": {
     "duration": 0.346762,
     "end_time": "2023-12-29T08:01:19.446092",
     "exception": false,
     "start_time": "2023-12-29T08:01:19.099330",
     "status": "completed"
    },
    "tags": []
   },
   "outputs": [
    {
     "data": {
      "text/plain": [
       "0.9797979797979798"
      ]
     },
     "execution_count": 22,
     "metadata": {},
     "output_type": "execute_result"
    }
   ],
   "source": [
    "random_forest = RandomForestClassifier(n_estimators=100)\n",
    "\n",
    "random_forest.fit(X_train, Y_train)\n",
    "\n",
    "Y_pred = random_forest.predict(X_test)\n",
    " \n",
    "random_forest.score(X_train, Y_train)"
   ]
  },
  {
   "cell_type": "code",
   "execution_count": 23,
   "id": "ae5a274e",
   "metadata": {
    "execution": {
     "iopub.execute_input": "2023-12-29T08:01:19.469033Z",
     "iopub.status.busy": "2023-12-29T08:01:19.467854Z",
     "iopub.status.idle": "2023-12-29T08:01:19.482843Z",
     "shell.execute_reply": "2023-12-29T08:01:19.481541Z"
    },
    "papermill": {
     "duration": 0.029145,
     "end_time": "2023-12-29T08:01:19.485472",
     "exception": false,
     "start_time": "2023-12-29T08:01:19.456327",
     "status": "completed"
    },
    "tags": []
   },
   "outputs": [
    {
     "name": "stdout",
     "output_type": "stream",
     "text": [
      "<class 'pandas.core.frame.DataFrame'>\n",
      "RangeIndex: 891 entries, 0 to 890\n",
      "Data columns (total 13 columns):\n",
      " #   Column    Non-Null Count  Dtype  \n",
      "---  ------    --------------  -----  \n",
      " 0   Survived  891 non-null    int64  \n",
      " 1   Age       891 non-null    float64\n",
      " 2   SibSp     891 non-null    int64  \n",
      " 3   Parch     891 non-null    int64  \n",
      " 4   Fare      891 non-null    float64\n",
      " 5   AA        891 non-null    bool   \n",
      " 6   BB        891 non-null    bool   \n",
      " 7   CC        891 non-null    bool   \n",
      " 8   Female    891 non-null    bool   \n",
      " 9   Male      891 non-null    bool   \n",
      " 10  S         891 non-null    bool   \n",
      " 11  C         891 non-null    bool   \n",
      " 12  Q         891 non-null    bool   \n",
      "dtypes: bool(8), float64(2), int64(3)\n",
      "memory usage: 41.9 KB\n"
     ]
    }
   ],
   "source": [
    "train_df.info()"
   ]
  },
  {
   "cell_type": "code",
   "execution_count": 24,
   "id": "e706886b",
   "metadata": {
    "execution": {
     "iopub.execute_input": "2023-12-29T08:01:19.508421Z",
     "iopub.status.busy": "2023-12-29T08:01:19.507995Z",
     "iopub.status.idle": "2023-12-29T08:01:19.844415Z",
     "shell.execute_reply": "2023-12-29T08:01:19.842908Z"
    },
    "papermill": {
     "duration": 0.351404,
     "end_time": "2023-12-29T08:01:19.847373",
     "exception": false,
     "start_time": "2023-12-29T08:01:19.495969",
     "status": "completed"
    },
    "tags": []
   },
   "outputs": [],
   "source": [
    "# Random Forests\n",
    "\n",
    "random_forest = RandomForestClassifier(n_estimators=100)\n",
    "random_forest.fit(X_train, Y_train)\n",
    "Y_pred = random_forest.predict(X_test)\n",
    "random_forest.score(X_train, Y_train)\n",
    "\n",
    "submission = pd.DataFrame({\n",
    "        \"PassengerId\": test_df[\"PassengerId\"],\n",
    "        \"Survived\": Y_pred\n",
    "    })\n",
    "submission.to_csv('titanic.csv', index=False)"
   ]
  }
 ],
 "metadata": {
  "kaggle": {
   "accelerator": "none",
   "dataSources": [
    {
     "databundleVersionId": 26502,
     "sourceId": 3136,
     "sourceType": "competition"
    }
   ],
   "dockerImageVersionId": 30626,
   "isGpuEnabled": false,
   "isInternetEnabled": true,
   "language": "python",
   "sourceType": "notebook"
  },
  "kernelspec": {
   "display_name": "Python 3",
   "language": "python",
   "name": "python3"
  },
  "language_info": {
   "codemirror_mode": {
    "name": "ipython",
    "version": 3
   },
   "file_extension": ".py",
   "mimetype": "text/x-python",
   "name": "python",
   "nbconvert_exporter": "python",
   "pygments_lexer": "ipython3",
   "version": "3.10.12"
  },
  "papermill": {
   "default_parameters": {},
   "duration": 8.706472,
   "end_time": "2023-12-29T08:01:20.586344",
   "environment_variables": {},
   "exception": null,
   "input_path": "__notebook__.ipynb",
   "output_path": "__notebook__.ipynb",
   "parameters": {},
   "start_time": "2023-12-29T08:01:11.879872",
   "version": "2.4.0"
  }
 },
 "nbformat": 4,
 "nbformat_minor": 5
}
